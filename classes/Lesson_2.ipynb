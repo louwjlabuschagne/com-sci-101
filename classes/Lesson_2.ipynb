{
 "cells": [
  {
   "cell_type": "markdown",
   "metadata": {},
   "source": [
    "# Lesson 2 - Let's Code\n",
    "\n",
    "Author: <a href='mailto:louwjlabuschagne@gmail.com'>louwjlabuschagne@gmail.com</a>"
   ]
  },
  {
   "cell_type": "markdown",
   "metadata": {
    "toc": true
   },
   "source": [
    "<h1>Table of Contents<span class=\"tocSkip\"></span></h1>\n",
    "<div class=\"toc\"><ul class=\"toc-item\"><li><span><a href=\"#Questions-from-Lesson-1\" data-toc-modified-id=\"Questions-from-Lesson-1-1\"><span class=\"toc-item-num\">1&nbsp;&nbsp;</span>Questions from Lesson 1</a></span></li><li><span><a href=\"#Introduction\" data-toc-modified-id=\"Introduction-2\"><span class=\"toc-item-num\">2&nbsp;&nbsp;</span>Introduction</a></span></li><li><span><a href=\"#Sections\" data-toc-modified-id=\"Sections-3\"><span class=\"toc-item-num\">3&nbsp;&nbsp;</span>Sections</a></span><ul class=\"toc-item\"><li><span><a href=\"#Variables\" data-toc-modified-id=\"Variables-3.1\"><span class=\"toc-item-num\">3.1&nbsp;&nbsp;</span>Variables</a></span></li><li><span><a href=\"#Rules-for-naming-variables:\" data-toc-modified-id=\"Rules-for-naming-variables:-3.2\"><span class=\"toc-item-num\">3.2&nbsp;&nbsp;</span>Rules for naming variables:</a></span></li><li><span><a href=\"#Constants\" data-toc-modified-id=\"Constants-3.3\"><span class=\"toc-item-num\">3.3&nbsp;&nbsp;</span>Constants</a></span></li><li><span><a href=\"#Arrays\" data-toc-modified-id=\"Arrays-3.4\"><span class=\"toc-item-num\">3.4&nbsp;&nbsp;</span>Arrays</a></span><ul class=\"toc-item\"><li><span><a href=\"#Declaring-Array-Variables\" data-toc-modified-id=\"Declaring-Array-Variables-3.4.1\"><span class=\"toc-item-num\">3.4.1&nbsp;&nbsp;</span>Declaring Array Variables</a></span></li><li><span><a href=\"#Creating-Array-Objects\" data-toc-modified-id=\"Creating-Array-Objects-3.4.2\"><span class=\"toc-item-num\">3.4.2&nbsp;&nbsp;</span>Creating Array Objects</a></span></li><li><span><a href=\"#Accessing-Array-Elements\" data-toc-modified-id=\"Accessing-Array-Elements-3.4.3\"><span class=\"toc-item-num\">3.4.3&nbsp;&nbsp;</span>Accessing Array Elements</a></span></li><li><span><a href=\"#Changing-Array-Elements\" data-toc-modified-id=\"Changing-Array-Elements-3.4.4\"><span class=\"toc-item-num\">3.4.4&nbsp;&nbsp;</span>Changing Array Elements</a></span></li></ul></li><li><span><a href=\"#If,-Else-If,-Else-and-Switch\" data-toc-modified-id=\"If,-Else-If,-Else-and-Switch-3.5\"><span class=\"toc-item-num\">3.5&nbsp;&nbsp;</span>If, Else-If, Else and Switch</a></span><ul class=\"toc-item\"><li><span><a href=\"#If\" data-toc-modified-id=\"If-3.5.1\"><span class=\"toc-item-num\">3.5.1&nbsp;&nbsp;</span>If</a></span></li><li><span><a href=\"#Else\" data-toc-modified-id=\"Else-3.5.2\"><span class=\"toc-item-num\">3.5.2&nbsp;&nbsp;</span>Else</a></span></li><li><span><a href=\"#Else-If\" data-toc-modified-id=\"Else-If-3.5.3\"><span class=\"toc-item-num\">3.5.3&nbsp;&nbsp;</span>Else-If</a></span></li><li><span><a href=\"#Shorthand\" data-toc-modified-id=\"Shorthand-3.5.4\"><span class=\"toc-item-num\">3.5.4&nbsp;&nbsp;</span>Shorthand</a></span></li><li><span><a href=\"#Switch\" data-toc-modified-id=\"Switch-3.5.5\"><span class=\"toc-item-num\">3.5.5&nbsp;&nbsp;</span>Switch</a></span></li></ul></li><li><span><a href=\"#Loops\" data-toc-modified-id=\"Loops-3.6\"><span class=\"toc-item-num\">3.6&nbsp;&nbsp;</span>Loops</a></span></li><li><span><a href=\"#Functions/Methods\" data-toc-modified-id=\"Functions/Methods-3.7\"><span class=\"toc-item-num\">3.7&nbsp;&nbsp;</span>Functions/Methods</a></span><ul class=\"toc-item\"><li><span><a href=\"#Methods\" data-toc-modified-id=\"Methods-3.7.1\"><span class=\"toc-item-num\">3.7.1&nbsp;&nbsp;</span>Methods</a></span></li><li><span><a href=\"#Paramaters-and-Arguments\" data-toc-modified-id=\"Paramaters-and-Arguments-3.7.2\"><span class=\"toc-item-num\">3.7.2&nbsp;&nbsp;</span>Paramaters and Arguments</a></span></li><li><span><a href=\"#Multiple-Parameters\" data-toc-modified-id=\"Multiple-Parameters-3.7.3\"><span class=\"toc-item-num\">3.7.3&nbsp;&nbsp;</span>Multiple Parameters</a></span></li><li><span><a href=\"#Return-Values\" data-toc-modified-id=\"Return-Values-3.7.4\"><span class=\"toc-item-num\">3.7.4&nbsp;&nbsp;</span>Return Values</a></span></li><li><span><a href=\"#Putting-some-of-the-pieces-together\" data-toc-modified-id=\"Putting-some-of-the-pieces-together-3.7.5\"><span class=\"toc-item-num\">3.7.5&nbsp;&nbsp;</span>Putting some of the pieces together</a></span></li><li><span><a href=\"#Overloading\" data-toc-modified-id=\"Overloading-3.7.6\"><span class=\"toc-item-num\">3.7.6&nbsp;&nbsp;</span>Overloading</a></span></li></ul></li><li><span><a href=\"#Classes\" data-toc-modified-id=\"Classes-3.8\"><span class=\"toc-item-num\">3.8&nbsp;&nbsp;</span>Classes</a></span><ul class=\"toc-item\"><li><span><a href=\"#What-is-OOP?\" data-toc-modified-id=\"What-is-OOP?-3.8.1\"><span class=\"toc-item-num\">3.8.1&nbsp;&nbsp;</span>What is OOP?</a></span></li><li><span><a href=\"#What-are-Classes-and-Objects?\" data-toc-modified-id=\"What-are-Classes-and-Objects?-3.8.2\"><span class=\"toc-item-num\">3.8.2&nbsp;&nbsp;</span>What are Classes and Objects?</a></span></li><li><span><a href=\"#Classes/Objects\" data-toc-modified-id=\"Classes/Objects-3.8.3\"><span class=\"toc-item-num\">3.8.3&nbsp;&nbsp;</span>Classes/Objects</a></span></li><li><span><a href=\"#Creating-a-Class\" data-toc-modified-id=\"Creating-a-Class-3.8.4\"><span class=\"toc-item-num\">3.8.4&nbsp;&nbsp;</span>Creating a Class</a></span></li><li><span><a href=\"#Creating-an-Object\" data-toc-modified-id=\"Creating-an-Object-3.8.5\"><span class=\"toc-item-num\">3.8.5&nbsp;&nbsp;</span>Creating an Object</a></span></li><li><span><a href=\"#Using-Multiple-Classes\" data-toc-modified-id=\"Using-Multiple-Classes-3.8.6\"><span class=\"toc-item-num\">3.8.6&nbsp;&nbsp;</span>Using Multiple Classes</a></span></li><li><span><a href=\"#Java-Class-Attributes\" data-toc-modified-id=\"Java-Class-Attributes-3.8.7\"><span class=\"toc-item-num\">3.8.7&nbsp;&nbsp;</span>Java Class Attributes</a></span><ul class=\"toc-item\"><li><span><a href=\"#Accessing-Attributes\" data-toc-modified-id=\"Accessing-Attributes-3.8.7.1\"><span class=\"toc-item-num\">3.8.7.1&nbsp;&nbsp;</span>Accessing Attributes</a></span></li><li><span><a href=\"#Modify-Attributes\" data-toc-modified-id=\"Modify-Attributes-3.8.7.2\"><span class=\"toc-item-num\">3.8.7.2&nbsp;&nbsp;</span>Modify Attributes</a></span></li><li><span><a href=\"#Multiple-Attributes\" data-toc-modified-id=\"Multiple-Attributes-3.8.7.3\"><span class=\"toc-item-num\">3.8.7.3&nbsp;&nbsp;</span>Multiple Attributes</a></span></li></ul></li><li><span><a href=\"#Java-Class-Methods\" data-toc-modified-id=\"Java-Class-Methods-3.8.8\"><span class=\"toc-item-num\">3.8.8&nbsp;&nbsp;</span>Java Class Methods</a></span><ul class=\"toc-item\"><li><span><a href=\"#Basics\" data-toc-modified-id=\"Basics-3.8.8.1\"><span class=\"toc-item-num\">3.8.8.1&nbsp;&nbsp;</span>Basics</a></span></li><li><span><a href=\"#Static-vs.-Non-Static\" data-toc-modified-id=\"Static-vs.-Non-Static-3.8.8.2\"><span class=\"toc-item-num\">3.8.8.2&nbsp;&nbsp;</span>Static vs. Non-Static</a></span></li><li><span><a href=\"#Access-Methods-With-an-Object\" data-toc-modified-id=\"Access-Methods-With-an-Object-3.8.8.3\"><span class=\"toc-item-num\">3.8.8.3&nbsp;&nbsp;</span>Access Methods With an Object</a></span></li><li><span><a href=\"#Using-Multiple-Classes\" data-toc-modified-id=\"Using-Multiple-Classes-3.8.8.4\"><span class=\"toc-item-num\">3.8.8.4&nbsp;&nbsp;</span>Using Multiple Classes</a></span></li></ul></li></ul></li><li><span><a href=\"#Flow-Diagrams\" data-toc-modified-id=\"Flow-Diagrams-3.9\"><span class=\"toc-item-num\">3.9&nbsp;&nbsp;</span>Flow Diagrams</a></span></li></ul></li><li><span><a href=\"#Conclusion\" data-toc-modified-id=\"Conclusion-4\"><span class=\"toc-item-num\">4&nbsp;&nbsp;</span>Conclusion</a></span></li><li><span><a href=\"#Homework\" data-toc-modified-id=\"Homework-5\"><span class=\"toc-item-num\">5&nbsp;&nbsp;</span>Homework</a></span></li></ul></div>"
   ]
  },
  {
   "cell_type": "markdown",
   "metadata": {},
   "source": [
    "<img src='https://images.unsplash.com/photo-1515879218367-8466d910aaa4?ixlib=rb-1.2.1&ixid=eyJhcHBfaWQiOjEyMDd9&auto=format&fit=crop&w=1950&q=80'>"
   ]
  },
  {
   "cell_type": "markdown",
   "metadata": {},
   "source": [
    "## Questions from Lesson 1"
   ]
  },
  {
   "cell_type": "markdown",
   "metadata": {},
   "source": [
    "+ What is an IDE?\n",
    "+ Why is Java a good programming language?\n",
    "+ What is the difference between Java and Python?\n",
    "+ What does it mean for code to be compiled?\n",
    "+ What is OOP?\n",
    "+ What is git?\n",
    "+ What is the JVM, JDK and JRE?\n",
    "+ Why do we comment our code? \n",
    "+ What are the different types of code commenting that we get? \n",
    "+ Name 5 primitive data types we get in Java.\n",
    "+ What is the difference between an `float` and a `double`?\n",
    "+ What datatype is the `String` datatype made up of? "
   ]
  },
  {
   "cell_type": "markdown",
   "metadata": {},
   "source": [
    "## Introduction"
   ]
  },
  {
   "cell_type": "markdown",
   "metadata": {},
   "source": [
    "Below we describe what are `Variables`, `Constants`, `Arrays`, `If`, `Switch`, `Loops`, `Functions`, `Classes` and `Flow Diagrams`. \n",
    "\n",
    "These concepts are **not** programming. These are the building blocks! And almost all of them. If you grasp the gist of these 9 concepts you are well on your way to programming anything. Ofcourse, as with music, you need to learn the syntax first, which is the hardest! Luckily we'ver got google. \n",
    "\n",
    "<img src='https://images.unsplash.com/photo-1507838153414-b4b713384a76?ixlib=rb-1.2.1&ixid=eyJhcHBfaWQiOjEyMDd9&auto=format&fit=crop&w=2850&q=80' width='50%'>\n",
    "\n",
    "Similiar to creating music, knowing which notes make up a chord does not make a song. You might even get by and create a song without knowing any musical theory. However, knowing `20%` of the theory gets you `80%` there to writing a song. "
   ]
  },
  {
   "cell_type": "markdown",
   "metadata": {},
   "source": [
    "## Sections"
   ]
  },
  {
   "cell_type": "markdown",
   "metadata": {},
   "source": [
    "### Variables"
   ]
  },
  {
   "cell_type": "markdown",
   "metadata": {},
   "source": [
    "###### What is a Variable?\n",
    "\n",
    "Variables are used to store information to be referenced and manipulated in a computer program. They also provide a way of labeling data with a descriptive name, so our programs can be understood more clearly by the reader and ourselves. It is helpful to think of variables as containers that hold information. Their sole purpose is to label and store data in memory. This data can then be used throughout your program.\n",
    "\n",
    "In Java we can assign an integer to the variable `my_variable` as follows:"
   ]
  },
  {
   "cell_type": "code",
   "execution_count": 1,
   "metadata": {
    "ExecuteTime": {
     "end_time": "2020-02-27T14:04+0000",
     "start_time": "2020-02-27T14:04:42.690Z"
    }
   },
   "outputs": [],
   "source": [
    "int my_variable = 3; "
   ]
  },
  {
   "cell_type": "markdown",
   "metadata": {},
   "source": [
    "Notice that we had to specify a type for the variable, here `int` for **integer**. Declaring the type we want allows Java to reserve the correct about of memory in RAM for us to store the value of our variable. \n",
    "\n",
    "We can then see the value assigned to the variable using the `println()` function as shown below:"
   ]
  },
  {
   "cell_type": "code",
   "execution_count": 2,
   "metadata": {
    "ExecuteTime": {
     "end_time": "2020-02-27T14:04+0000",
     "start_time": "2020-02-27T14:04:42.695Z"
    }
   },
   "outputs": [
    {
     "name": "stdout",
     "output_type": "stream",
     "text": [
      "my_variable: 3\n"
     ]
    }
   ],
   "source": [
    "System.out.println(\"my_variable: \" + my_variable);"
   ]
  },
  {
   "cell_type": "markdown",
   "metadata": {},
   "source": [
    "We can change the value of the variable by assigning it another value like:"
   ]
  },
  {
   "cell_type": "code",
   "execution_count": 3,
   "metadata": {
    "ExecuteTime": {
     "end_time": "2020-02-27T14:04+0000",
     "start_time": "2020-02-27T14:04:42.700Z"
    }
   },
   "outputs": [
    {
     "name": "stdout",
     "output_type": "stream",
     "text": [
      "my_variable: 444444\n"
     ]
    }
   ],
   "source": [
    "my_variable = 444444;\n",
    "System.out.println(\"my_variable: \" + my_variable);"
   ]
  },
  {
   "cell_type": "markdown",
   "metadata": {},
   "source": [
    "However, if we try and assign any type other than an integer to the variable, Java will complain:"
   ]
  },
  {
   "cell_type": "code",
   "execution_count": 4,
   "metadata": {
    "ExecuteTime": {
     "end_time": "2020-02-27T14:04+0000",
     "start_time": "2020-02-27T14:04:42.705Z"
    }
   },
   "outputs": [
    {
     "ename": "CompilationException",
     "evalue": "",
     "output_type": "error",
     "traceback": [
      "\u001b[1m\u001b[30m|   \u001b[1m\u001b[30mmy_variable = \u001b[0m\u001b[1m\u001b[30m\u001b[41m\"a string value\"\u001b[0m\u001b[1m\u001b[30m\u001b[0m",
      "\u001b[1m\u001b[31mincompatible types: java.lang.String cannot be converted to int\u001b[0m",
      ""
     ]
    }
   ],
   "source": [
    "my_variable = \"a string value\""
   ]
  },
  {
   "cell_type": "code",
   "execution_count": 5,
   "metadata": {
    "ExecuteTime": {
     "end_time": "2020-02-27T14:04+0000",
     "start_time": "2020-02-27T14:04:42.712Z"
    }
   },
   "outputs": [
    {
     "ename": "CompilationException",
     "evalue": "",
     "output_type": "error",
     "traceback": [
      "\u001b[1m\u001b[30m|   \u001b[1m\u001b[30mmy_variable = \u001b[0m\u001b[1m\u001b[30m\u001b[41m3.11\u001b[0m\u001b[1m\u001b[30m\u001b[0m",
      "\u001b[1m\u001b[31mincompatible types: possible lossy conversion from double to int\u001b[0m",
      ""
     ]
    }
   ],
   "source": [
    "my_variable = 3.11"
   ]
  },
  {
   "cell_type": "markdown",
   "metadata": {},
   "source": [
    "In principle you can call your variables anything, sort of. In Java there are a few rules as mentioned <a href='https://mathbits.com/MathBits/Java/DataBasics/Namingrules.htm'>here</a>.\n",
    "\n",
    "The best naming convention is to choose a variable name that will tell the reader of the program what the variable represents.  Variable names that describe the data stored at that particular memory location are called mnemonic variables.  For example, if you wish to store a grade on a test, a variable name such as `grade`  would be more easily remembered than a variable name such as `var2`.\n"
   ]
  },
  {
   "cell_type": "markdown",
   "metadata": {},
   "source": [
    "### Rules for naming variables:\n",
    "\n",
    "1. All variable names must begin with a letter of the alphabet, an underscore, or ( _ ), or a dollar sign ($)\n",
    "2. The convention is to always use a letter of the alphabet.  The dollar sign and the underscore are discouraged.\n",
    "3. After the first initial letter, variable names may also contain letters and the digits 0 to 9.  \n",
    "\n",
    "4. No spaces or special characters are allowed. \n",
    "\n",
    "5. The name can be of any length, but don't get carried away.  Remember that you will have to type this name.\n",
    "\n",
    "6. Uppercase characters are distinct from lowercase characters.  Using ALL uppercase letters are primarily used to identify constant variables.  Remember that variable names are case-sensitive.\n",
    "\n",
    "7. You cannot use a java keyword (reserved word) for a variable name.\n",
    "\n",
    " \n",
    "Tip:  Some programmers use underscore in variable names to separate parts of the name, such as shipping_weight.  Others prefer a \"camel case\" notation, such as shippingWeight to separate parts of the name.  NEVER use uppercase for every letter in a variable name, because uppercase names are reserved for final (constant) variables."
   ]
  },
  {
   "cell_type": "markdown",
   "metadata": {},
   "source": [
    "### Constants"
   ]
  },
  {
   "cell_type": "markdown",
   "metadata": {},
   "source": [
    "Sometime in our program we would like the value of a variable to stay constant once declared. These are special type of variables, and we call them `CONSTANTS` and they are usually denoted with `ALL_CAPS`. In java we tell the compiler that our variable should be kept constant for the remainder of the program by including the `final` keyword.\n",
    "\n",
    "As the notebook environment doens't work quite the same as a java program getting compiled, we'll illustrate how constants work in Java by compiling and executing a java script.\n",
    "\n",
    "In the `scripts/` directory there is a script called `L2Constants.java` which contains the following:\n",
    "\n",
    "```java\n",
    "public class L2Constants {\n",
    "    public static void main(String[] args) {\n",
    "        \n",
    "        final int my_var = 1;\n",
    "        my_var = 2;\n",
    "        System.out.println(my_var);\n",
    "    }\n",
    "}\n",
    "```"
   ]
  },
  {
   "cell_type": "markdown",
   "metadata": {},
   "source": [
    "When we compile this programming by running:\n",
    "\n",
    "`javac L2Constants.java`\n",
    "\n",
    "we get the following error:\n",
    "\n",
    "```java\n",
    "Constants.java:5: error: cannot assign a value to final variable my_var\n",
    "        my_var = 2;\n",
    "        ^\n",
    "1 error\n",
    "```"
   ]
  },
  {
   "cell_type": "markdown",
   "metadata": {},
   "source": [
    "As you can see, the Java compiler complains and tells us, `cannot assign a value to final variable my_var`. As a side note, compilers have come a long way and are usually quite descriptive about the problem - learn to read and understand your error messages."
   ]
  },
  {
   "cell_type": "markdown",
   "metadata": {},
   "source": [
    "### Arrays"
   ]
  },
  {
   "cell_type": "markdown",
   "metadata": {},
   "source": [
    "Arrays are lists of things. Consider a situation where we need to store `five` integer numbers. \n",
    "\n",
    "If we use programming's simple variable and data type concepts, then we need five variables of int data type and the program will be as follows:\n",
    "\n",
    "```java\n",
    "int number1 = 1;\n",
    "int number2 = 2;\n",
    "int number3 = 3;\n",
    "int number4 = 4;\n",
    "int number5 = 5;\n",
    "```\n",
    "\n",
    "This gets very tedious! Quickly! To handle such situations, almost all the programming languages provide a concept called array. An array is a data structure, which can store a fixed-size collection of elements of the same data type. An array is used to store a collection of data, but it is often more useful to think of an array as a collection of variables of the same type.\n",
    "\n",
    "Instead of declaring individual variables, such as number1, number2, ..., number99, you just declare one array variable number of integer type and use `number1[0]`, `number1[1]`, and ..., `number1[99]` to represent individual variables. Here, `0, 1, 2, .....99` are index associated with var variable and they are being used to represent individual elements available in the array.\n",
    "\n",
    "All arrays consist of contiguous memory locations. The lowest address corresponds to the first element and the highest address to the last element.\n",
    "\n",
    "<img src='https://www.tutorialspoint.com/computer_programming/images/arrays.jpg' width='60%'>\n",
    "\n",
    "Example taken from <a href='https://www.tutorialspoint.com/computer_programming/computer_programming_arrays.htm'>here</a>."
   ]
  },
  {
   "cell_type": "markdown",
   "metadata": {},
   "source": [
    "Arrays can contain any type of element value (primitive types or objects), but you can't store different types in a single array. You can have an array of integers or an array of strings or an array of arrays, but you can't have an array that contains, for example, both strings and integers.\n",
    "\n",
    "To create an array in Java, you use three steps:\n",
    "\n",
    "1. Declare a variable to hold the array.\n",
    "2. Create a new array object and assign it to the array variable.\n",
    "3. Store things in that array."
   ]
  },
  {
   "cell_type": "markdown",
   "metadata": {},
   "source": [
    "#### Declaring Array Variables"
   ]
  },
  {
   "cell_type": "markdown",
   "metadata": {},
   "source": [
    "\n",
    "The first step in creating an array is creating a variable that will hold the array, just as you would any other variable. Array variables indicate the type of object the array will hold (just as they do for any variable) and the name of the array, followed by empty brackets (`[ ]`). The following are all typical array variable declarations:\n",
    "\n",
    "```java\n",
    "String difficultWords[];\n",
    "Point hits[];\n",
    "int temps[];\n",
    "```\n",
    "\n",
    "An alternate method of defining an array variable is to put the brackets after the type instead of after the variable. They are equivalent, but this latter form is often much more readable. \n",
    "\n",
    "So, for example, these three declarations could be written like this:\n",
    "\n",
    "```java\n",
    "String[] difficultWords;\n",
    "Point[] hits;\n",
    "int[] temps;\n",
    "```"
   ]
  },
  {
   "cell_type": "markdown",
   "metadata": {},
   "source": [
    "#### Creating Array Objects"
   ]
  },
  {
   "cell_type": "markdown",
   "metadata": {},
   "source": [
    "The second step is to create an array object and assign it to that variable. There are two ways to do this:\n",
    "\n",
    "###### Using new\n",
    "\n",
    "Directly initializing the contents of that array\n",
    "The first way is to use the new operator to create a new instance of an array:\n",
    "\n",
    "```java\n",
    "String[] names = new String[10];\n",
    "```\n",
    "\n",
    "That line creates a new array of Strings with 10 slots (sometimes called elements). When you create a new array object using new, you must indicate how many slots that array will hold. This line does not put actual String objects in the slots-you'll have to do that later.\n",
    "\n",
    "Array objects can contain primitive types such as integers or booleans, just as they can contain objects:\n",
    "\n",
    "```\n",
    "int[] temps = new int[99];\n",
    "```\n",
    "\n",
    "When you create an array object using `new`, all its slots are initialized for you \n",
    "\n",
    "+ `0` for `numeric` arrays\n",
    "+ false for `boolean`\n",
    "+ `'\\0'` for character arrays\n",
    "+ `null` for objects\n",
    "\n",
    "You can then assign actual values or objects to the slots in that array. You can also create an array and initialize its contents at the same time. Instead of using new to create the new array object, enclose the elements of the array inside braces, separated by commas:\n",
    "\n",
    "```java\n",
    "String[] chiles = { \"jalapeno\", \"anaheim\", \"serrano\", \"habanero\"};\n",
    "```\n",
    "\n",
    "Each of the elements inside the braces must be of the same type and must be the same type as the variable that holds that array (the Java compiler will complain if they're not). An array the size of the number of elements you've included will be automatically created for you. This example creates an array of String objects named chiles that contains five elements."
   ]
  },
  {
   "cell_type": "markdown",
   "metadata": {},
   "source": [
    "In the `scripts/` directory there is a script called `L2Arrays.java` which contains the following, inspired by <a href='https://www.java67.com/2014/03/how-to-print-array-in-java-example-tutorial.html'>this</a>:\n",
    "\n",
    "\n",
    "```java\n",
    "import java.util.Arrays;\n",
    "\n",
    "public class L2Arrays {\n",
    "    public static void main(String[] args) {\n",
    "        \n",
    "        String[] chiles = { \"jalapeno\", \"anaheim\", \"serrano\", \"habanero\"};\n",
    "\n",
    "        System.out.println(\"Chiles: \" + chiles);\n",
    "        System.out.println(\"Real Chiles: \" + Arrays.toString(chiles)); \n",
    "    }\n",
    "}\n",
    "```"
   ]
  },
  {
   "cell_type": "markdown",
   "metadata": {},
   "source": [
    "When we compile this programming by running:\n",
    "\n",
    "`javac L2Arrays.java`\n",
    "\n",
    "and run the programming using:\n",
    "\n",
    "```\n",
    "java L2Arrays\n",
    "```\n",
    "we get the following:\n",
    "\n",
    "```java\n",
    "Chiles: [Ljava.lang.String;@3fee733d\n",
    "Real Chiles: [jalapeno, anaheim, serrano, habanero]\n",
    "```"
   ]
  },
  {
   "cell_type": "markdown",
   "metadata": {},
   "source": [
    "What the hell is going on with `@3fee733d`? This is the start address of the array, each subsequent value in the array will be stored from `@3fee733d` onwards.\n",
    "\n",
    "What happens when we try and mix types in arrays? \n",
    "\n",
    "In the `scripts/` directory there is a script called `L2ArraysMix.java` which contains the following:\n",
    "\n",
    "```java\n",
    "import java.util.Arrays;\n",
    "\n",
    "public class L2ArraysMix {\n",
    "    public static void main(String[] args) {\n",
    "        \n",
    "        String[] chiles = { \"jalapeno\", 1, \"serrano\", \"habanero\"};\n",
    "\n",
    "        System.out.println(\"Chiles: \" + chiles);\n",
    "        System.out.println(\"Real Chiles: \" + Arrays.toString(chiles)); \n",
    "    }\n",
    "}\n",
    "```\n"
   ]
  },
  {
   "cell_type": "markdown",
   "metadata": {},
   "source": [
    "When we compile this programming by running:\n",
    "\n",
    "`javac L2ArraysMix.java` we get:\n",
    "\n",
    "```java\n",
    "L2ArraysMix.java:6: error: incompatible types: int cannot be converted to String\n",
    "        String[] chiles = { \"jalapeno\", 1, \"serrano\", \"habanero\"};\n",
    "                                        ^\n",
    "1 error\n",
    "```"
   ]
  },
  {
   "cell_type": "markdown",
   "metadata": {},
   "source": [
    "#### Accessing Array Elements"
   ]
  },
  {
   "cell_type": "markdown",
   "metadata": {},
   "source": [
    "\n",
    "Once you have an array with initial values, you can test and change the values in each slot of that array. To get at a value stored within an array, use the array subscript expression (`[]`):\n",
    "\n",
    "```java\n",
    "myArray[subscript];\n",
    "```\n",
    "\n",
    "The myArray part of this expression is a variable holding an array object, although it can also be an expression that results in an array. The subscript part of the expression, inside the brackets, specifies the number of the slot within the array to access. Array subscripts start with 0, as they do in C and C++. So, an array with `10 elements` has `10` array slots accessed using subscript `0` to `9`.\n",
    "\n",
    "Note that all array subscripts are checked when your Java program is run to make sure that they are inside the boundaries of the array (greater than or equal to 0 but less than the array's length). Unlike in C, it is impossible in Java to access or assign a value to an array slot outside the boundaries of the array (thereby avoiding a lot of the common problems and bugs that result from overrunning the bounds of an array in C-like languages). Note the following two statements in `scripts/L2ArrayOutOfBounds.java`:\n",
    "\n",
    "```java\n",
    "String[] arr = new String[10];\n",
    "arr[10] = \"eggplant\";\n",
    "```\n",
    "\n",
    "This program will compile, but when we execute it we get the following:\n",
    "\n",
    "```java\n",
    "Exception in thread \"main\" java.lang.ArrayIndexOutOfBoundsException: Index 10 out of bounds for length 10\n",
    "\tat L2ArrayOutOfBounds.main(L2ArrayOutOfBounds.java:6)\n",
    "```"
   ]
  },
  {
   "cell_type": "markdown",
   "metadata": {},
   "source": [
    "#### Changing Array Elements"
   ]
  },
  {
   "cell_type": "markdown",
   "metadata": {},
   "source": [
    "\n",
    "To assign an element value to a particular array slot, merely put an assignment statement after the array access expression:\n",
    "\n",
    "```java\n",
    "myarray[1] = 15;\n",
    "sentence[0] = \"The\";\n",
    "sentence[10] = sentence[0];\n",
    "```\n",
    "\n",
    "An important thing to note is that an array of objects in Java is an array of references to those objects (similar in some ways to an array of pointers in C or C++). When you assign a value to a slot in an array, you're creating a reference to that object, just as you do for a plain variable. When you move values around inside arrays (as in that last line), you just reassign the reference; you don't copy the value from one slot to another. Arrays of primitive types such as ints or floats do copy the values from one slot to another.\n",
    "\n",
    "Arrays of references to objects, as opposed to the objects themselves, are particularly useful because you can have multiple references to the same objects both inside and outside arrays. For example, you can assign an object contained in an array to a variable and refer to that same object by using either the variable or the array position."
   ]
  },
  {
   "cell_type": "markdown",
   "metadata": {},
   "source": [
    "### If, Else-If, Else and Switch"
   ]
  },
  {
   "cell_type": "markdown",
   "metadata": {},
   "source": [
    "In programming we frequently compare one variable to a particular value or the value of another variable. For this, we use an `if`, `else`, `else-if` or `switch` statement. Most of this section comes from <a href='https://www.w3schools.com/java/java_conditions.asp'>this<a/> website.\n",
    "\n",
    "###### Java supports the usual logical conditions from mathematics:\n",
    "\n",
    "+ Less than: a < b\n",
    "+ Less than or equal to: a <= b\n",
    "+ Greater than: a > b\n",
    "+ Greater than or equal to: a >= b\n",
    "+ Equal to a == b\n",
    "+ Not Equal to: a != b\n",
    "\n",
    "You can use these conditions to perform different actions for different decisions. These operations return a boolean value, either **true** or **false**. Below I declare 2 variables, `a` and `b` and demonstrate the functionality of the above operations. "
   ]
  },
  {
   "cell_type": "code",
   "execution_count": 6,
   "metadata": {
    "ExecuteTime": {
     "end_time": "2020-02-27T14:04+0000",
     "start_time": "2020-02-27T14:04:42.744Z"
    }
   },
   "outputs": [
    {
     "name": "stdout",
     "output_type": "stream",
     "text": [
      "a greater than b: false\n",
      "b greater than a: true\n",
      "a less than or equal to b: true\n",
      "b less than or equal to a: false\n",
      "a equal to b: false\n",
      "a not equal to b: true\n"
     ]
    }
   ],
   "source": [
    "int a = 10;\n",
    "int b = 20;\n",
    "\n",
    "boolean a_gt_b = a > b; // a greater than b\n",
    "boolean b_gt_a = b > a; // b greater than a\n",
    "boolean a_lse_b = a <= b; // a less than or equal to b\n",
    "boolean b_lse_a = b <= a; // b less than or equal to a\n",
    "boolean a_equ_b = a == b; // a equal to b\n",
    "boolean a_neq_b = a != b; // a not equal to b\n",
    "\n",
    "System.out.println(\"a greater than b: \" + a_gt_b);\n",
    "System.out.println(\"b greater than a: \" + b_gt_a);\n",
    "System.out.println(\"a less than or equal to b: \" + a_lse_b);\n",
    "System.out.println(\"b less than or equal to a: \" + b_lse_a);\n",
    "System.out.println(\"a equal to b: \" + a_equ_b);\n",
    "System.out.println(\"a not equal to b: \" + a_neq_b);"
   ]
  },
  {
   "cell_type": "code",
   "execution_count": 7,
   "metadata": {
    "ExecuteTime": {
     "end_time": "2020-02-27T14:04+0000",
     "start_time": "2020-02-27T14:04:42.766Z"
    }
   },
   "outputs": [
    {
     "data": {
      "text/plain": [
       "false"
      ]
     },
     "execution_count": 7,
     "metadata": {},
     "output_type": "execute_result"
    }
   ],
   "source": [
    "a_gt_b"
   ]
  },
  {
   "cell_type": "markdown",
   "metadata": {},
   "source": [
    "###### Java has the following conditional statements:\n",
    "\n",
    "+ Use `if` to specify a block of code to be executed, if a specified condition is true\n",
    "+ Use `else` to specify a block of code to be executed, if the same condition is false\n",
    "+ Use `else-if` to specify a new condition to test, if the first condition is false\n",
    "+ Use switch to specify many alternative blocks of code to be executed\n"
   ]
  },
  {
   "cell_type": "markdown",
   "metadata": {},
   "source": [
    "#### If"
   ]
  },
  {
   "cell_type": "markdown",
   "metadata": {
    "ExecuteTime": {
     "end_time": "2020-02-25T14:55+0000",
     "start_time": "2020-02-25T14:55:28.797Z"
    }
   },
   "source": [
    "The syntax for an `if`-statement in Java is as follows:\n",
    "\n",
    "```java\n",
    "if (condition) {\n",
    "  // block of code to be executed if the condition is true\n",
    "}\n",
    "```\n",
    "\n",
    "From this point on you'll see a lot more curley braces (`{}`) as these are used to indicate **scope** to the compiler. Depending on how you create a variable, it's **scope** can be limited to it's declared **scope**, or it can be **hoisted**. For example, the code below declares the variable `var1`, first in the \"global\" scope, then within the `if`-statement's scope.\n",
    "\n",
    "```java\n",
    "boolean condition = true;\n",
    "int var1 = 100;\n",
    "\n",
    "if (condition) {\n",
    "    int var1 = 10000;\n",
    "    System.out.println(var1);\n",
    "};\n",
    "System.out.println(var1);\n",
    "\n",
    "```\n",
    "\n",
    "The code outputs:\n",
    "\n",
    "```java\n",
    "10000\n",
    "100\n",
    "```"
   ]
  },
  {
   "cell_type": "markdown",
   "metadata": {
    "ExecuteTime": {
     "end_time": "2020-02-25T14:53+0000",
     "start_time": "2020-02-25T14:53:57.396Z"
    }
   },
   "source": [
    "#### Else"
   ]
  },
  {
   "cell_type": "markdown",
   "metadata": {},
   "source": [
    "We use the `else`-statement to specify a block of code to be executed if the condition is `false`. For example:\n",
    "\n",
    "```java\n",
    "int time = 20;\n",
    "if (time < 18) {\n",
    "  System.out.println(\"Good day.\");\n",
    "} else {\n",
    "  System.out.println(\"Good evening.\");\n",
    "}\n",
    "// Outputs \"Good evening.\"\n",
    "```"
   ]
  },
  {
   "cell_type": "markdown",
   "metadata": {},
   "source": [
    "#### Else-If"
   ]
  },
  {
   "cell_type": "markdown",
   "metadata": {},
   "source": [
    "Sometimes you'd like to check mutiple values, this is what `else-if` statement is used for, for example:\n",
    "\n",
    "```java\n",
    "\n",
    "int time = 22;\n",
    "if (time < 10) {\n",
    "  System.out.println(\"Good morning.\");\n",
    "} else if (time < 20) {\n",
    "  System.out.println(\"Good day.\");\n",
    "} else {\n",
    "  System.out.println(\"Good evening.\");\n",
    "}\n",
    "// Outputs \"Good evening.\"\n",
    "```"
   ]
  },
  {
   "cell_type": "markdown",
   "metadata": {},
   "source": [
    "#### Shorthand"
   ]
  },
  {
   "cell_type": "markdown",
   "metadata": {},
   "source": [
    "In Java, like many other languages, there is a shorthand for an `if-else` statement:\n",
    "\n",
    "```java\n",
    "variable = (condition) ? expressionTrue :  expressionFalse;\n",
    "```\n",
    "\n",
    "So we can replace\n",
    "\n",
    "```java\n",
    "int time = 20;\n",
    "if (time < 18) {\n",
    "  System.out.println(\"Good day.\");\n",
    "} else {\n",
    "  System.out.println(\"Good evening.\");\n",
    "}\n",
    "```\n",
    "\n",
    "with \n",
    "\n",
    "```java\n",
    "int time = 20;\n",
    "String result = (time < 18) ? \"Good day.\" : \"Good evening.\";\n",
    "System.out.println(result);\n",
    "```"
   ]
  },
  {
   "cell_type": "markdown",
   "metadata": {},
   "source": [
    "#### Switch"
   ]
  },
  {
   "cell_type": "markdown",
   "metadata": {},
   "source": [
    "However, sometime all the `else-if` statments can get out of hand, then we use the `switch` statement. In Java the syntax is as follows:\n",
    "\n",
    "```Java\n",
    "switch(expression) {\n",
    "  case x:\n",
    "    // code block\n",
    "    break;\n",
    "  case y:\n",
    "    // code block\n",
    "    break;\n",
    "  default:\n",
    "    // code block\n",
    "}\n",
    "```\n",
    "\n",
    "This is how it works:\n",
    "\n",
    "+ The switch expression is evaluated once.\n",
    "+ The value of the expression is compared with the values of each case.\n",
    "+ If there is a match, the associated block of code is executed.\n",
    "+ The `break` and `default` keywords are optional and we'll discuss them later.\n",
    "\n",
    "The example below uses the weekday number to calculate the weekday name:\n",
    "\n",
    "```java\n",
    "int day = 4;\n",
    "switch (day) {\n",
    "  case 1:\n",
    "    System.out.println(\"Monday\");\n",
    "    break;\n",
    "  case 2:\n",
    "    System.out.println(\"Tuesday\");\n",
    "    break;\n",
    "  case 3:\n",
    "    System.out.println(\"Wednesday\");\n",
    "    break;\n",
    "  case 4:\n",
    "    System.out.println(\"Thursday\");\n",
    "    break;\n",
    "  case 5:\n",
    "    System.out.println(\"Friday\");\n",
    "    break;\n",
    "  case 6:\n",
    "    System.out.println(\"Saturday\");\n",
    "    break;\n",
    "  case 7:\n",
    "    System.out.println(\"Sunday\");\n",
    "    break;\n",
    "}\n",
    "// Outputs \"Thursday\" (day 4)\n",
    "```\n"
   ]
  },
  {
   "cell_type": "markdown",
   "metadata": {},
   "source": [
    "###### The break Keyword\n",
    "When Java reaches a break keyword, it breaks out of the switch block.\n",
    "\n",
    "This will stop the execution of more code and case testing inside the block.\n",
    "\n",
    "When a match is found, and the job is done, it's time for a break. There is no need for more testing.\n"
   ]
  },
  {
   "cell_type": "markdown",
   "metadata": {},
   "source": [
    "###### The default Keyword\n",
    "The default keyword specifies some code to run if there is no case match:\n",
    "\n",
    "```java\n",
    "int day = 4;\n",
    "switch (day) {\n",
    "  case 6:\n",
    "    System.out.println(\"Today is Saturday\");\n",
    "    break;\n",
    "  case 7:\n",
    "    System.out.println(\"Today is Sunday\");\n",
    "    break;\n",
    "  default:\n",
    "    System.out.println(\"Looking forward to the Weekend\");\n",
    "}\n",
    "// Outputs \"Looking forward to the Weekend\"\n",
    "```\n",
    "\n",
    "The `default` statement is used as the last statement in a switch block, it does not need a break."
   ]
  },
  {
   "cell_type": "markdown",
   "metadata": {},
   "source": [
    "### Loops"
   ]
  },
  {
   "cell_type": "markdown",
   "metadata": {},
   "source": [
    "Loops are the building blocks for iterating through lists. They come in 3 different flavours: `for`-loops, `while`-loops and `do-while`-loops, where the latter 2 are very similiar. \n",
    "\n",
    "So what is a loop? Say we've got an 2 arrays. One array contains the names of chords and the other array contains a string with the notes making up that chords. How can we print out line for line, the chord name and the notes that make up that chord? Well, spoiler, with a loop - and a `for` loop to be spesific here.\n",
    "\n",
    "The boiler plate code for a `for`-loop in Java is:\n",
    "\n",
    "```java\n",
    "for(int i = 0; i < 5; i++) {\n",
    "  System.out.println(i);\n",
    "}\n",
    "```\n",
    "\n",
    "This will output:\n",
    "\n",
    "```java\n",
    "0\n",
    "1\n",
    "2\n",
    "3\n",
    "4\n",
    "```\n",
    "\n",
    "The loop starts with the variable `i` assigned to `0` and each time the loop passes through, it increments `i` with `1`. The `i++` is shorthand for `increment by 1`. We could have also written:\n",
    "\n",
    "```java\n",
    "for(int i = 0; i < 5; i = i+1) {\n",
    "    System.out.println(i);\n",
    "  }\n",
    "```\n",
    "\n",
    "Or if we wanted to start at `10` and decrease to `-10` in steps of `3` we could do:\n",
    "\n",
    "```java\n",
    "for(int i = 10; i > -10; i = i-2) {\n",
    "    System.out.println(i);\n",
    "  }\n",
    "```\n",
    "\n",
    "which will output:\n",
    "\n",
    "```java\n",
    "10\n",
    "7\n",
    "4\n",
    "1\n",
    "-2\n",
    "-5\n",
    "-8\n",
    "```"
   ]
  },
  {
   "cell_type": "markdown",
   "metadata": {},
   "source": [
    "Getting back to our chord and notes example, in the `scripts/L2ChordForLoop.java` file we've got the following:\n",
    "\n",
    "```java\n",
    "public class L2ChordForLoop {\n",
    "    public static void main(String[] args) {\n",
    "        String [] chords = {\"A\", \"Am\", \"Am7\", \"Aadd9\"};\n",
    "        String [] notes = {\"A C# E\", \"A B C\", \"A B C D\", \"A B C D E\"};\n",
    "        for(int i = 0; i < chords.length; i++) {\n",
    "            System.out.println(chords[i] + \": \" + notes[i]);\n",
    "          }\n",
    "    }\n",
    "}\n",
    "```\n",
    "\n",
    "which outputs?"
   ]
  },
  {
   "cell_type": "markdown",
   "metadata": {},
   "source": [
    "### Functions/Methods"
   ]
  },
  {
   "cell_type": "markdown",
   "metadata": {},
   "source": [
    "If variabes, arrays, if-statements and loops are the raw materials, then functions/methods are the building blocks to building a program. You can use the term function and method interchangeable, although if you are refering to a function within a method it is usually called a method, but everybody will know what you are talking about. Functions enable the programmer to:\n",
    "\n",
    "+ Abstract code away - resulting in cleaner more modular code\n",
    "+ Implement API governance - certain functions are public, some private\n",
    "+ Reuse code blocks\n"
   ]
  },
  {
   "cell_type": "markdown",
   "metadata": {},
   "source": [
    "#### Methods"
   ]
  },
  {
   "cell_type": "markdown",
   "metadata": {
    "ExecuteTime": {
     "end_time": "2020-02-25T15:31+0000",
     "start_time": "2020-02-25T15:31:53.356Z"
    }
   },
   "source": [
    "A method is a block of code which only runs when it is called. You can pass data, known as **parameters**, into a method. Methods are used to perform certain actions, and they are also known as functions. \n",
    "\n",
    "Why use methods? To reuse code: define the code once, and use it many times.\n",
    "\n",
    "In Java, a function _has_ to be declared within a class, so all functions in Java are methods - other programming languages don't all follow this paradigm. To creat a method it _must_ be declared within a class. It is defined with: \n",
    "\n",
    "+ the name of the method\n",
    "+ followed by parentheses `()`\n",
    "\n",
    "Java provides some pre-defined methods, such as `System.out.println()`, but you can also create your own methods to perform certain actions:\n",
    "\n",
    "```java\n",
    "public class MyClass {\n",
    "  static void myMethod() {\n",
    "    // code to be executed\n",
    "  }\n",
    "}\n",
    "```"
   ]
  },
  {
   "cell_type": "markdown",
   "metadata": {},
   "source": [
    "###### Example Explained\n",
    "+ `myMethod()` is the name of the method\n",
    "+ `static` means that the method belongs to the MyClass class and not an object of the MyClass class.\n",
    "+ `void` means that this method does not have a return value. \n"
   ]
  },
  {
   "cell_type": "markdown",
   "metadata": {},
   "source": [
    "###### Calling a Method\n",
    "To call a method in Java, write the method's name followed by two parentheses () and a semicolon;\n",
    "\n",
    "In the following example, myMethod() is used to print a text (the action), when it is called:\n",
    "\n",
    "> Inside main, call the myMethod() method:\n",
    "\n",
    "```java\n",
    "public class MyClass {\n",
    "  static void myMethod() {\n",
    "    System.out.println(\"I just got executed!\");\n",
    "  }\n",
    "\n",
    "  public static void main(String[] args) {\n",
    "    myMethod();\n",
    "  }\n",
    "}\n",
    "\n",
    "// Outputs \"I just got executed!\"\n",
    "```\n",
    "\n",
    "A method can also be called multiple times:\n",
    "\n",
    "```java\n",
    "public class MyClass {\n",
    "  static void myMethod() {\n",
    "    System.out.println(\"I just got executed!\");\n",
    "  }\n",
    "\n",
    "  public static void main(String[] args) {\n",
    "    myMethod();\n",
    "    myMethod();\n",
    "    myMethod();\n",
    "  }\n",
    "}\n",
    "\n",
    "// Outputs \"I just got executed!\"\n",
    "```\n"
   ]
  },
  {
   "cell_type": "markdown",
   "metadata": {},
   "source": [
    "#### Paramaters and Arguments"
   ]
  },
  {
   "cell_type": "markdown",
   "metadata": {},
   "source": [
    "Information can be passed to methods as parameter. Parameters act as variables inside the method. Parameters are specified after the method name, inside the parentheses. You can add as many parameters as you want, just separate them with a comma.\n",
    "\n",
    "The following example has a method that takes a `String` called `fname` as **parameter**. When the method is called, we pass along a first name, which is used inside the method to print the full name:\n",
    "\n",
    "```java\n",
    "public class MyClass {\n",
    "  static void greetMethod(String fname) {\n",
    "    System.out.println(\"Hi\" + fname);\n",
    "  }\n",
    "\n",
    "  public static void main(String[] args) {\n",
    "    greetMethod(\"Liam\");\n",
    "    greetMethod(\"Jenny\");\n",
    "    greetMethod(\"Anja\");\n",
    "  }\n",
    "}\n",
    "// Hi Liam\n",
    "// Hi Jenny\n",
    "// Hi Anj\n",
    "```\n",
    "\n",
    "       \n",
    "> ⚠️ Note that methods start with lower case letters and are written in camel case, this is not by accident and is the styling preference for Java.\n",
    "\n",
    "Also we wouldn't normally include the work `Method` in our method name, we'd rather define it as: \n",
    "\n",
    "```java\n",
    "static void greet(String fname) {\n",
    "    System.out.println(\"Hi\" + fname);\n",
    "}\n",
    "```"
   ]
  },
  {
   "cell_type": "markdown",
   "metadata": {},
   "source": [
    "#### Multiple Parameters"
   ]
  },
  {
   "cell_type": "markdown",
   "metadata": {},
   "source": [
    "You can have as many parameters as you like:\n",
    "\n",
    "```java\n",
    "public class MyClass {\n",
    "  static void printNameAndAge(String fname, int age) {\n",
    "    System.out.println(fname + \" is \" + age);\n",
    "  }\n",
    "\n",
    "  public static void main(String[] args) {\n",
    "    printNameAndAge(\"Liam\", 5);\n",
    "    printNameAndAge(\"Jenny\", 8);\n",
    "    printNameAndAge(\"Anja\", 31);\n",
    "  }\n",
    "}\n",
    "\n",
    "// Liam is 5\n",
    "// Jenny is 8\n",
    "// Anja is 31\n",
    "```\n",
    "\n",
    "> ⚠️ Note that when you are working with multiple parameters, the method call must have the same number of arguments as there are parameters, and the arguments must be passed in the same order.\n",
    "\n",
    "Being able to reuse a function is where the real value lies. There is a principle in programming called the `DRY`-principle. \n",
    "\n",
    "> DRY: **D**on't **R**epeat **Y**ourself - ever! \n",
    "\n",
    "This takes some practice, but if you find yourself writing the same code block, take a step back and think: \"can't I abstract this away into a function?\" In the example above, we could have declared 3 functions: `printNameAndAgeOfLiam`, `printNameAndAgeOfJenny` and `printNameAndAgeOfAnja`, but the more general method, `printNameAndAge`, can be reused if we abstract the `name` to a `parameter`."
   ]
  },
  {
   "cell_type": "markdown",
   "metadata": {},
   "source": [
    "#### Return Values"
   ]
  },
  {
   "cell_type": "markdown",
   "metadata": {},
   "source": [
    "\n",
    "The `void` keyword, used in the examples above, indicates that the method should not return a value. If you want the method to return a value, you can use a primitive data type (such as `int`, `char`, etc.) instead of `void`, and use the return keyword inside the method:\n",
    "\n",
    "```java\n",
    "public class MyClass {\n",
    "  static int myMethod(int x, int y) {\n",
    "    return x + y;\n",
    "  }\n",
    "\n",
    "  public static void main(String[] args) {\n",
    "    int z = myMethod(5, 3);\n",
    "    System.out.println(z);\n",
    "  }\n",
    "}\n",
    "// Outputs: 8\n",
    "```\n",
    "\n",
    "The above example defines the method `myMethod` that takes 2 parameters, `x` and `y`, and returns their sum. We then assign this returnd value in `z` and print this value to the console. It is advised to store the value returned by a method in a variabe, like the example above, instead of:\n",
    "\n",
    "```java\n",
    "  public static void main(String[] args) {\n",
    "    System.out.println(myMethod(5, 3));\n",
    "  }\n",
    "```\n",
    "\n",
    "This will make your code easier to understand and maintain."
   ]
  },
  {
   "cell_type": "markdown",
   "metadata": {},
   "source": [
    "#### Putting some of the pieces together"
   ]
  },
  {
   "cell_type": "markdown",
   "metadata": {},
   "source": [
    "\n",
    "\n",
    "The `checkAge` method below shows how to use an `if` stament within a method to determine whether a person should be allowed access based on their age:\n",
    "\n",
    "```java\n",
    "public class MyClass {\n",
    "\n",
    "  // Create a checkAge() method with an integer variable called age\n",
    "  static String checkAge(int age) {\n",
    "\n",
    "    // If age is less than 18, return \"access denied\"\n",
    "    if (age < 18) {\n",
    "      return \"Access denied - You are not old enough!\";\n",
    "\n",
    "    // If age is greater than 18, return \"access granted\"\n",
    "    } else {\n",
    "      return\"Access granted - You are old enough!\";\n",
    "    }\n",
    "\n",
    "  }\n",
    "\n",
    "  public static void main(String[] args) {\n",
    "    message = checkAge(20); // Call the checkAge method and pass along an age of 20\n",
    "    System.out.println(message); // Print out the returned message\n",
    "  }\n",
    "}\n",
    "\n",
    "// Outputs \"Access granted - You are old enough!\"\n",
    "```"
   ]
  },
  {
   "cell_type": "markdown",
   "metadata": {},
   "source": [
    "#### Overloading"
   ]
  },
  {
   "cell_type": "markdown",
   "metadata": {},
   "source": [
    "With method overloading, multiple methods can have the **same name** with **different parameters**. For example, `myMethod` below can be viewed as 3 different functions with the same name - based on the type of the parameters passed, the compiler will choose which method to execute. \n",
    "\n",
    "```java\n",
    "int myMethod(int x);\n",
    "float myMethod(float x);\n",
    "double myMethod(double x, double y);\n",
    "```\n",
    "\n",
    "Consider the following example, which have two methods that add numbers of different type:\n",
    "\n",
    "```java\n",
    "static int plusMethodInt(int x, int y) {\n",
    "  return x + y;\n",
    "}\n",
    "\n",
    "static double plusMethodDouble(double x, double y) {\n",
    "  return x + y;\n",
    "}\n",
    "\n",
    "public static void main(String[] args) {\n",
    "  int myNum1 = plusMethodInt(8, 5);\n",
    "  double myNum2 = plusMethodDouble(4.3, 6.26);\n",
    "  System.out.println(\"int: \" + myNum1);\n",
    "  System.out.println(\"double: \" + myNum2);\n",
    "}\n",
    "```\n",
    "\n",
    "Instead of defining two methods that should do the same thing, it is better to overload one. In the example below, we overload the `plusMethod` method to work for both `int` and `double`:\n",
    "\n",
    "```java\n",
    "static int plusMethod(int x, int y) {\n",
    "  return x + y;\n",
    "}\n",
    "\n",
    "static double plusMethod(double x, double y) {\n",
    "  return x + y;\n",
    "}\n",
    "\n",
    "public static void main(String[] args) {\n",
    "  int myNum1 = plusMethod(8, 5);\n",
    "  double myNum2 = plusMethod(4.3, 6.26);\n",
    "  System.out.println(\"int: \" + myNum1);\n",
    "  System.out.println(\"double: \" + myNum2);\n",
    "} \n",
    " \n",
    "```\n",
    " \n",
    "> ⚠️ Note: Multiple methods can have the same name as long as the number and/or type of parameters are different."
   ]
  },
  {
   "cell_type": "markdown",
   "metadata": {},
   "source": [
    "### Classes"
   ]
  },
  {
   "cell_type": "markdown",
   "metadata": {},
   "source": [
    "The text and examples are taken from <a href='https://www.w3schools.com/java/java_oop.asp'>here</a>."
   ]
  },
  {
   "cell_type": "markdown",
   "metadata": {},
   "source": [
    "#### What is OOP?\n"
   ]
  },
  {
   "cell_type": "markdown",
   "metadata": {},
   "source": [
    "OOP stands for Object-Oriented Programming.\n",
    "\n",
    "**Procedural** programming is about writing procedures or methods that perform operations on the data, while **object-oriented** programming is about creating objects that contain both data and methods.\n",
    "\n",
    "Object-oriented programming has several advantages over procedural programming:\n",
    "\n",
    "+ OOP is faster and easier to execute\n",
    "+ OOP provides a clear structure for the programs\n",
    "+ OOP helps to keep the Java code DRY \"Don't Repeat Yourself\", and makes the code easier to maintain, modify and debug\n",
    "+ OOP makes it possible to create full reusable applications with less code and shorter development time\n",
    "\n",
    "> ⚠️ Note: The \"Don't Repeat Yourself\" (DRY) principle is about reducing the repetition of code. You should extract out the codes that are common for the application, and place them at a single place and reuse them instead of repeating it."
   ]
  },
  {
   "cell_type": "markdown",
   "metadata": {},
   "source": [
    "#### What are Classes and Objects?"
   ]
  },
  {
   "cell_type": "markdown",
   "metadata": {},
   "source": [
    "\n",
    "Classes and objects are the two main aspects of object-oriented programming.\n",
    "\n",
    "Look at the following illustration to see the difference between class and objects:\n",
    "\n",
    "<img src='https://4.bp.blogspot.com/-THFgnR5h5kI/WXnzmoANWVI/AAAAAAAAAJk/TFw9e2CggiAm6OWstfMynpJLpIRRIZZHACLcBGAs/s1600/javaclass.PNG'/>\n",
    "\n",
    "So, a class is a template for objects, and an object is an instance of a class. A more descriptive difference:\n",
    "\n",
    "<img src='https://media.geeksforgeeks.org/wp-content/uploads/Screenshot-from-2018-08-27-10-39-14-1.png'/>\n",
    "\n",
    "When the individual objects are created, they inherit all the variables and methods from the class."
   ]
  },
  {
   "cell_type": "markdown",
   "metadata": {},
   "source": [
    "#### Classes/Objects"
   ]
  },
  {
   "cell_type": "markdown",
   "metadata": {},
   "source": [
    "\n",
    "**Java** is an **object-oriented programming** language.\n",
    "\n",
    "Everything in Java is associated with classes and objects, along with its attributes and methods. For example: in real life, a car is an object. The car has attributes, such as weight and color, and methods, such as drive and brake.\n",
    "\n",
    "A Class is like an object constructor, or a \"blueprint\" for creating objects."
   ]
  },
  {
   "cell_type": "markdown",
   "metadata": {},
   "source": [
    "#### Creating a Class"
   ]
  },
  {
   "cell_type": "markdown",
   "metadata": {},
   "source": [
    "\n",
    "To create a class, use the keyword `class`:\n",
    "\n",
    "\n",
    "`MyClass.java`\n",
    "\n",
    "Create a class named \"MyClass\" with a variable x:\n",
    "```java\n",
    "public class MyClass {\n",
    "  int x = 5;\n",
    "}\n",
    "```\n",
    "\n",
    "> ⚠️ Note from the <a href='https://www.w3schools.com/java/java_syntax.asp'>Java Syntax chapter</a> that a class should always start with an uppercase first letter, and that the name of the java file should match the class name."
   ]
  },
  {
   "cell_type": "markdown",
   "metadata": {},
   "source": [
    "#### Creating an Object"
   ]
  },
  {
   "cell_type": "markdown",
   "metadata": {},
   "source": [
    "\n",
    "In Java, an object is created from a class. We have already created the class named MyClass, so now we can use this to create objects.\n",
    "\n",
    "To create an object of MyClass, specify the class name, followed by the object name, and use the keyword new:\n",
    "\n",
    "```java\n",
    "public class MyClass {\n",
    "  int x = 5;\n",
    "\n",
    "  public static void main(String[] args) {\n",
    "    MyClass myObj = new MyClass();\n",
    "    System.out.println(myObj.x);\n",
    "  }\n",
    "}\n",
    "```"
   ]
  },
  {
   "cell_type": "markdown",
   "metadata": {},
   "source": [
    "#### Using Multiple Classes"
   ]
  },
  {
   "cell_type": "markdown",
   "metadata": {},
   "source": [
    "\n",
    "You can also create an object of a class and access it in another class. This is often used for better organization of classes (one class has all the attributes and methods, while the other class holds the main() method (code to be executed)).\n",
    "\n",
    "> ⚠️ Note that the name of the java file should match the class name. In this example, we have created two files in the same directory/folder:\n",
    "\n",
    "```\n",
    "MyClass.java\n",
    "OtherClass.java\n",
    "```\n",
    "\n",
    "###### MyClass.java\n",
    "```java\n",
    "public class MyClass {\n",
    "  int x = 5;\n",
    "}\n",
    "```\n",
    "\n",
    "###### OtherClass.java\n",
    "```java\n",
    "class OtherClass {\n",
    "  public static void main(String[] args) {\n",
    "    MyClass myObj = new MyClass();\n",
    "    System.out.println(myObj.x);\n",
    "  }\n",
    "}\n",
    "```\n",
    "\n",
    "When both files have been compiled:\n",
    "\n",
    "```bash\n",
    "$: javac MyClass.java\n",
    "$: javac OtherClass.java\n",
    "```\n",
    "\n",
    "You can run \n",
    "\n",
    "```\n",
    "java OtherClass\n",
    "```\n",
    "\n",
    "and get\n",
    "\n",
    "```\n",
    "5\n",
    "```"
   ]
  },
  {
   "cell_type": "markdown",
   "metadata": {},
   "source": [
    "#### Java Class Attributes"
   ]
  },
  {
   "cell_type": "markdown",
   "metadata": {},
   "source": [
    "\n",
    "Previously, we used the term **variable** for x in the example (as shown below). It is actually an attribute of the class. Or you could say that class attributes are variables within a class, much like methods are functions within a class:\n",
    "\n",
    "For example, create a class called \"MyClass\" with two attributes: x and y:\n",
    "\n",
    "```java\n",
    "public class MyClass {\n",
    "  int x = 5;\n",
    "  int y = 3;\n",
    "}\n",
    "```\n",
    "\n",
    "> ⚠️ Note: Another term for **class attributes** is **fields**.\n"
   ]
  },
  {
   "cell_type": "markdown",
   "metadata": {},
   "source": [
    "##### Accessing Attributes"
   ]
  },
  {
   "cell_type": "markdown",
   "metadata": {},
   "source": [
    "You can access attributes by creating an object of the class, and by using the dot syntax (`.`):\n",
    "\n",
    "The following example will create an object of the `MyClass` class, with the name `myObj`. We use the `x` attribute on the object to print its value:\n",
    "\n",
    "\n",
    "```java\n",
    "public class MyClass {\n",
    "  int x = 5;\n",
    "\n",
    "  public static void main(String[] args) {\n",
    "    MyClass myObj = new MyClass();\n",
    "    System.out.println(myObj.x);\n",
    "  }\n",
    "}\n",
    "\n",
    "//Output: 5\n",
    "```"
   ]
  },
  {
   "cell_type": "markdown",
   "metadata": {},
   "source": [
    "##### Modify Attributes"
   ]
  },
  {
   "cell_type": "markdown",
   "metadata": {},
   "source": [
    "###### Modify attribute values:\n",
    "\n",
    "\n",
    "Set the value of x to 40:\n",
    "```java\n",
    "public class MyClass {\n",
    "  int x;\n",
    "\n",
    "  public static void main(String[] args) {\n",
    "    MyClass myObj = new MyClass();\n",
    "    myObj.x = 40;\n",
    "    System.out.println(myObj.x);\n",
    "  }\n",
    "}\n",
    "```\n"
   ]
  },
  {
   "cell_type": "markdown",
   "metadata": {},
   "source": [
    "######  Override existing values:\n",
    "Change the value of x to 25:\n",
    "```java\n",
    "public class MyClass {\n",
    "  int x = 10;\n",
    "\n",
    "  public static void main(String[] args) {\n",
    "    MyClass myObj = new MyClass();\n",
    "    myObj.x = 25; // x is now 25\n",
    "    System.out.println(myObj.x);\n",
    "  }\n",
    "}\n",
    "```\n",
    "\n"
   ]
  },
  {
   "cell_type": "markdown",
   "metadata": {},
   "source": [
    "###### Final Attributes\n",
    "\n",
    "If you don't want the ability to override existing values, declare the attribute as final:\n",
    "\n",
    "```java\n",
    "public class MyClass {\n",
    "  final int x = 10;\n",
    "\n",
    "  public static void main(String[] args) {\n",
    "    MyClass myObj = new MyClass();\n",
    "    myObj.x = 25; // will generate an error: cannot assign a value to a final variable\n",
    "    System.out.println(myObj.x);\n",
    "  }\n",
    "}\n",
    "```\n",
    "\n",
    "> ⚠️ Note: The `final` keyword is called a \"modifier\" and is useful when you want a variable to always store the same value, like PI (3.14159...)."
   ]
  },
  {
   "cell_type": "markdown",
   "metadata": {},
   "source": [
    "##### Multiple Attributes"
   ]
  },
  {
   "cell_type": "markdown",
   "metadata": {
    "ExecuteTime": {
     "end_time": "2020-02-25T16:36+0000",
     "start_time": "2020-02-25T16:36:29.072Z"
    }
   },
   "source": [
    "Ofcourse, you can specify as many attributes as you want:\n",
    "\n",
    "```java\n",
    "public class Person {\n",
    "  String fname = \"John\";\n",
    "  String lname = \"Doe\";\n",
    "  int age = 24;\n",
    "\n",
    "  public static void main(String[] args) {\n",
    "    Person myObj = new Person();\n",
    "    System.out.println(\"Name: \" + myObj.fname + \" \" + myObj.lname);\n",
    "    System.out.println(\"Age: \" + myObj.age);\n",
    "  }\n",
    "}\n",
    "```"
   ]
  },
  {
   "cell_type": "markdown",
   "metadata": {},
   "source": [
    "#### Java Class Methods"
   ]
  },
  {
   "cell_type": "markdown",
   "metadata": {},
   "source": [
    "##### Basics"
   ]
  },
  {
   "cell_type": "markdown",
   "metadata": {},
   "source": [
    "You learned from the Java Methods chapter that methods are declared within a class, and that they are used to perform certain actions:\n",
    "\n",
    "\n",
    "Create a method named myMethod() in MyClass:\n",
    "```java\n",
    "public class MyClass {\n",
    "  static void myMethod() {\n",
    "    System.out.println(\"Hello World!\");\n",
    "  }\n",
    "}\n",
    "```\n",
    "\n",
    "`myMethod()` prints a text (the action), when it is called. To call a method, write the method's name followed by two parentheses () and a semicolon;\n",
    "\n",
    "\n",
    "Inside main, call myMethod():\n",
    "```java\n",
    "public class MyClass {\n",
    "  static void myMethod() {\n",
    "    System.out.println(\"Hello World!\");\n",
    "  }\n",
    "\n",
    "  public static void main(String[] args) {\n",
    "    myMethod();\n",
    "  }\n",
    "}\n",
    "\n",
    "// Outputs \"Hello World!\"\n",
    "```\n",
    "\n"
   ]
  },
  {
   "cell_type": "markdown",
   "metadata": {},
   "source": [
    "##### Static vs. Non-Static"
   ]
  },
  {
   "cell_type": "markdown",
   "metadata": {},
   "source": [
    "You will often see Java programs that have either `static` or `public` attributes and methods.\n",
    "\n",
    "In the example above, we created a `static` method, which means that **it can be accessed without creating an object of the class**, unlike public, which can only be accessed by objects. Below is an example to demonstrate the differences between static and public methods:\n",
    "\n",
    "```java\n",
    "public class MyClass {\n",
    "  // Static method\n",
    "  static void myStaticMethod() {\n",
    "    System.out.println(\"Static methods can be called without creating objects\");\n",
    "  }\n",
    "\n",
    "  // Public method\n",
    "  public void myPublicMethod() {\n",
    "    System.out.println(\"Public methods must be called by creating objects\");\n",
    "  }\n",
    "\n",
    "  // Main method\n",
    "  public static void main(String[] args) {\n",
    "    myStaticMethod(); // Call the static method\n",
    "    // myPublicMethod(); This would compile an error\n",
    "\n",
    "    MyClass myObj = new MyClass(); // Create an object of MyClass\n",
    "    myObj.myPublicMethod(); // Call the public method on the object\n",
    "  }\n",
    "}\n",
    " \n",
    "```\n"
   ]
  },
  {
   "cell_type": "markdown",
   "metadata": {},
   "source": [
    "##### Access Methods With an Object"
   ]
  },
  {
   "cell_type": "markdown",
   "metadata": {},
   "source": [
    "Create a Car object named `myCar`. Call the `fullThrottle()` and `speed()` methods on the `myCar` object, and run the program:\n",
    "\n",
    "```java\n",
    "// Create a Car class\n",
    "public class Car {\n",
    " \n",
    "  // Create a fullThrottle() method\n",
    "  public void fullThrottle() {\n",
    "    System.out.println(\"The car is going as fast as it can!\");\n",
    "  }\n",
    "\n",
    "  // Create a speed() method and add a parameter\n",
    "  public void speed(int maxSpeed) {\n",
    "    System.out.println(\"Max speed is: \" + maxSpeed);\n",
    "  }\n",
    "\n",
    "  // Inside main, call the methods on the myCar object\n",
    "  public static void main(String[] args) {\n",
    "    Car myCar = new Car();     // Create a myCar object\n",
    "    myCar.fullThrottle();      // Call the fullThrottle() method\n",
    "    myCar.speed(200);          // Call the speed() method\n",
    "  }\n",
    "}\n",
    "\n",
    "// The car is going as fast as it can!\n",
    "// Max speed is: 200\n",
    "```\n",
    "\n",
    "Explanation:\n",
    "\n",
    "1. We created a custom `Car` class with the class keyword.\n",
    "2. We created the `fullThrottle()` and `speed()` methods in the Car class.\n",
    "3. The `fullThrottle()` method and the `speed()` method will print out some text, when they are called.\n",
    "4. The `speed()` method accepts an `int` parameter called `maxSpeed` - we will use this in `8.`\n",
    "5. In order to use the `Car` class and its methods, we need to create an object of the `Car` Class.\n",
    "6. Then, go to the `main()` method, which you know by now is a built-in Java method that runs your program (any code inside main is executed).\n",
    "7. By using the `new` keyword we created a `Car` object with the name `myCar`.\n",
    "8. Then, we call the `fullThrottle()` and `speed()` methods on the `myCar` object, and run the program using the name of the object (`myCar`), followed by a dot (`.`), followed by the name of the method (`fullThrottle()`; and `speed(200)`;). Notice that we add an int parameter of 200 inside the speed() method.\n",
    "\n",
    "> ⚠️ Note: The dot (`.`) is used to access the object's attributes and methods.\n",
    "\n",
    "\n"
   ]
  },
  {
   "cell_type": "markdown",
   "metadata": {},
   "source": [
    "##### Using Multiple Classes"
   ]
  },
  {
   "cell_type": "markdown",
   "metadata": {},
   "source": [
    "Like we mentioned above, it is a good practice to create an object of a class and access it in another class.\n",
    "\n",
    "> ⚠️ Note that the name of the java file should match the class name. In this example, we have created two files in the same directory: `Car.java` and `OtherClass.java`\n",
    "\n",
    "###### Car.java\n",
    "\n",
    "```java\n",
    "public class Car {\n",
    "  public void fullThrottle() {\n",
    "    System.out.println(\"The car is going as fast as it can!\");\n",
    "  }\n",
    "\n",
    "  public void speed(int maxSpeed) {\n",
    "    System.out.println(\"Max speed is: \" + maxSpeed);\n",
    "  }\n",
    "}\n",
    "```\n",
    "\n",
    "###### OtherClass.java\n",
    "```java\n",
    "class OtherClass {\n",
    "  public static void main(String[] args) {\n",
    "    Car myCar = new Car();     // Create a myCar object\n",
    "    myCar.fullThrottle();      // Call the fullThrottle() method\n",
    "    myCar.speed(200);          // Call the speed() method\n",
    "  }\n",
    "}\n",
    "```\n",
    "When both files have been compiled:\n",
    "\n",
    "```bash\n",
    "$: javac Car.java\n",
    "$: javac OtherClass.java\n",
    "```\n",
    "\n",
    "Run the OtherClass.java file:\n",
    "\n",
    "```bash\n",
    "$: java OtherClass\n",
    "```\n",
    "And the output will be:\n",
    "\n",
    "```\n",
    "The car is going as fast as it can!\n",
    "Max speed is: 200\n",
    "```"
   ]
  },
  {
   "cell_type": "markdown",
   "metadata": {},
   "source": [
    "### Flow Diagrams"
   ]
  },
  {
   "cell_type": "markdown",
   "metadata": {},
   "source": [
    "Copied mostly from <a href='https://www.edrawsoft.com/flowchart/program-flowchart-definition.html'>here</a>."
   ]
  },
  {
   "cell_type": "markdown",
   "metadata": {},
   "source": [
    "Program flowchart is the simplest way to figure out the bugs in a program before carrying out, which saves a lot of time, labor, and money.\n",
    "\n",
    "Program flowchart is a diagram that uses a set of **standard graphic symbols** to represent the **sequence** of coded instructions fed into a computer, enabling it to perform specified logical and arithmetical operations. It is a great tool to improve work efficiency. There are four basic symbols in program flowchart:\n",
    "+ start\n",
    "+ process\n",
    "+ decision\n",
    "+ end. \n",
    "\n",
    "Each symbol represents a piece of the code written for the program.\n",
    "\n",
    "+ Start event symbol signals the first step of a process.\n",
    "+ Process is a series of actions or steps taken in order to achieve a particular end.\n",
    "+ Decision is the action or process of deciding something or of resolving a question.\n",
    "+ End event symbol stands for the result of a process.\n",
    "\n",
    "Each of these have their associated symbols, viz:\n",
    "\n",
    "<img src='https://www.edrawsoft.com/flowchart/images/program-flowchart-symbols.png'/>\n",
    "\n",
    "First mapping out the required logic of a project can save you a lot of time later on in a project. "
   ]
  },
  {
   "cell_type": "markdown",
   "metadata": {},
   "source": [
    "## Conclusion"
   ]
  },
  {
   "cell_type": "markdown",
   "metadata": {},
   "source": [
    "In this notebook we've covered `Variables`, `Constants`, `Arrays`, `If`, `Switch`, `Loops`, `Functions`, `Classes` and `Flow Diagrams`. Each of these are just building blocks for you to use and abuse while trying to carve a certain piece of logic. \n",
    "\n",
    "There is always a more efficient way to code a certain piece of logic, but getting something to work is the first aim, after which we refactor the code to be more readable and efficient. "
   ]
  },
  {
   "cell_type": "markdown",
   "metadata": {},
   "source": [
    "## Homework"
   ]
  },
  {
   "cell_type": "markdown",
   "metadata": {},
   "source": [
    "+ Read as much of this as you can <a href='https://www.w3schools.com/java/default.asp'>this</a>\n",
    "+ How many bytes will an array with \n",
    "    + 10 integers take up in memory? \n",
    "    + 10 doubles take up in memory? \n",
    "    + 10 chars take up in memory? \n",
    "+ What does the `i++` syntax do? \n",
    "+ How would you compare the types of two variables? \n",
    "+ What is refactoring? \n",
    "+ What is the difference between an attribute and parameter?\n",
    "+ What is overloading? \n",
    "+ Create a class called `House` that gets intialised with an `adress` as a `String` and a `price` as a `float`. \n",
    "And has methods:\n",
    "    + `setPrice(price)` which takes a `float` and sets the `price` and returns nothing\n",
    "    + `getPrice()` which takes `no parameters` and returns the `price` as a `float`\n",
    "    + `incPrice(percentage)` which takes a `percentage` as a `float` and increases the House's `price` with that percentage and `returns` nothing\n",
    "    + `getAdress` which returns the address as a `String`\n"
   ]
  },
  {
   "cell_type": "code",
   "execution_count": null,
   "metadata": {},
   "outputs": [],
   "source": []
  }
 ],
 "metadata": {
  "kernelspec": {
   "display_name": "Java",
   "language": "java",
   "name": "java"
  },
  "language_info": {
   "codemirror_mode": "java",
   "file_extension": ".jshell",
   "mimetype": "text/x-java-source",
   "name": "Java",
   "pygments_lexer": "java",
   "version": "12.0.2+10"
  },
  "toc": {
   "base_numbering": 1,
   "nav_menu": {},
   "number_sections": true,
   "sideBar": true,
   "skip_h1_title": true,
   "title_cell": "Table of Contents",
   "title_sidebar": "Contents",
   "toc_cell": true,
   "toc_position": {
    "height": "calc(100% - 180px)",
    "left": "10px",
    "top": "150px",
    "width": "259.2px"
   },
   "toc_section_display": true,
   "toc_window_display": true
  }
 },
 "nbformat": 4,
 "nbformat_minor": 2
}
