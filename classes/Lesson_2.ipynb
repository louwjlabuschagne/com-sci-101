{
 "cells": [
  {
   "cell_type": "markdown",
   "metadata": {},
   "source": [
    "# Lesson 2 - Let's Code\n",
    "\n",
    "Author: <a href='mailto:louwjlabuschagne@gmail.com'>louwjlabuschagne@gmail.com</a>"
   ]
  },
  {
   "cell_type": "markdown",
   "metadata": {
    "toc": true
   },
   "source": [
    "<h1>Table of Contents<span class=\"tocSkip\"></span></h1>\n",
    "<div class=\"toc\"><ul class=\"toc-item\"><li><span><a href=\"#Questions-from-Lesson-1\" data-toc-modified-id=\"Questions-from-Lesson-1-1\"><span class=\"toc-item-num\">1&nbsp;&nbsp;</span>Questions from Lesson 1</a></span></li><li><span><a href=\"#Basics\" data-toc-modified-id=\"Basics-2\"><span class=\"toc-item-num\">2&nbsp;&nbsp;</span>Basics</a></span><ul class=\"toc-item\"><li><span><a href=\"#Variables\" data-toc-modified-id=\"Variables-2.1\"><span class=\"toc-item-num\">2.1&nbsp;&nbsp;</span>Variables</a></span></li><li><span><a href=\"#Rules-for-naming-variables:\" data-toc-modified-id=\"Rules-for-naming-variables:-2.2\"><span class=\"toc-item-num\">2.2&nbsp;&nbsp;</span>Rules for naming variables:</a></span></li><li><span><a href=\"#Constants\" data-toc-modified-id=\"Constants-2.3\"><span class=\"toc-item-num\">2.3&nbsp;&nbsp;</span>Constants</a></span></li><li><span><a href=\"#Arrays\" data-toc-modified-id=\"Arrays-2.4\"><span class=\"toc-item-num\">2.4&nbsp;&nbsp;</span>Arrays</a></span><ul class=\"toc-item\"><li><span><a href=\"#Declaring-Array-Variables\" data-toc-modified-id=\"Declaring-Array-Variables-2.4.1\"><span class=\"toc-item-num\">2.4.1&nbsp;&nbsp;</span>Declaring Array Variables</a></span></li><li><span><a href=\"#Creating-Array-Objects\" data-toc-modified-id=\"Creating-Array-Objects-2.4.2\"><span class=\"toc-item-num\">2.4.2&nbsp;&nbsp;</span>Creating Array Objects</a></span></li><li><span><a href=\"#Accessing-Array-Elements\" data-toc-modified-id=\"Accessing-Array-Elements-2.4.3\"><span class=\"toc-item-num\">2.4.3&nbsp;&nbsp;</span>Accessing Array Elements</a></span></li><li><span><a href=\"#Changing-Array-Elements\" data-toc-modified-id=\"Changing-Array-Elements-2.4.4\"><span class=\"toc-item-num\">2.4.4&nbsp;&nbsp;</span>Changing Array Elements</a></span></li></ul></li><li><span><a href=\"#Loops\" data-toc-modified-id=\"Loops-2.5\"><span class=\"toc-item-num\">2.5&nbsp;&nbsp;</span>Loops</a></span></li><li><span><a href=\"#Functions\" data-toc-modified-id=\"Functions-2.6\"><span class=\"toc-item-num\">2.6&nbsp;&nbsp;</span>Functions</a></span></li><li><span><a href=\"#Classes\" data-toc-modified-id=\"Classes-2.7\"><span class=\"toc-item-num\">2.7&nbsp;&nbsp;</span>Classes</a></span></li><li><span><a href=\"#Flow-Diagrams\" data-toc-modified-id=\"Flow-Diagrams-2.8\"><span class=\"toc-item-num\">2.8&nbsp;&nbsp;</span>Flow Diagrams</a></span></li></ul></li><li><span><a href=\"#Homework\" data-toc-modified-id=\"Homework-3\"><span class=\"toc-item-num\">3&nbsp;&nbsp;</span>Homework</a></span></li></ul></div>"
   ]
  },
  {
   "cell_type": "markdown",
   "metadata": {},
   "source": [
    "<img src='https://images.unsplash.com/photo-1515879218367-8466d910aaa4?ixlib=rb-1.2.1&ixid=eyJhcHBfaWQiOjEyMDd9&auto=format&fit=crop&w=1950&q=80'>"
   ]
  },
  {
   "cell_type": "markdown",
   "metadata": {},
   "source": [
    "## Questions from Lesson 1"
   ]
  },
  {
   "cell_type": "markdown",
   "metadata": {},
   "source": [
    "+ What is an IDE?\n",
    "+ Why is Java a good programming language?\n",
    "+ What is the difference between Java and Python?\n",
    "+ What does it mean for code to be compiled?\n",
    "+ What is OOP?\n",
    "+ What is git?\n",
    "+ What is the JVM, JDK and JRE?\n",
    "+ Why do we comment our code? \n",
    "+ What are the different types of code commenting that we get? \n",
    "+ Name 5 primitive data types we get in Java.\n",
    "+ What is the difference between an `float` and a `double`\n",
    "+ What datatype is the `String` datatype made up of? "
   ]
  },
  {
   "cell_type": "markdown",
   "metadata": {},
   "source": [
    "## Basics"
   ]
  },
  {
   "cell_type": "markdown",
   "metadata": {},
   "source": [
    "Below we describe what are `Variable`, `Constants`, `Arrays`, `If`, `Switch`, `Loops`, `Functions`, `Classes` and `Flow Diagrams`. \n",
    "\n",
    "These concepts are **not** programming. These are the building blocks! And almost all of them. If you grasp the gist of these 9 concepts you are well on your way to programming anything. Ofcourse, as with music, you need to learn the syntax first, which is the hardest! Luckily we'ver got google. \n",
    "\n",
    "<img src='https://images.unsplash.com/photo-1507838153414-b4b713384a76?ixlib=rb-1.2.1&ixid=eyJhcHBfaWQiOjEyMDd9&auto=format&fit=crop&w=2850&q=80' width='50%'>\n",
    "\n",
    "Similiar to creating music, knowing which notes make up a chord does not make a song. You might even get by and create a song without knowing any musical theory. However, knowing `20%` of the theory gets you `80%` there to writing a song. "
   ]
  },
  {
   "cell_type": "markdown",
   "metadata": {},
   "source": [
    "### Variables"
   ]
  },
  {
   "cell_type": "markdown",
   "metadata": {},
   "source": [
    "###### What is a Variable?\n",
    "\n",
    "Variables are used to store information to be referenced and manipulated in a computer program. They also provide a way of labeling data with a descriptive name, so our programs can be understood more clearly by the reader and ourselves. It is helpful to think of variables as containers that hold information. Their sole purpose is to label and store data in memory. This data can then be used throughout your program.\n",
    "\n",
    "In Java we can assign an integer to the variable `my_variable` as follows:"
   ]
  },
  {
   "cell_type": "code",
   "execution_count": 1,
   "metadata": {
    "ExecuteTime": {
     "end_time": "2020-02-20T18:26+0000",
     "start_time": "2020-02-20T18:26:17.362Z"
    }
   },
   "outputs": [],
   "source": [
    "int my_variable = 3; "
   ]
  },
  {
   "cell_type": "markdown",
   "metadata": {},
   "source": [
    "Notice that we had to specify a type for the variable, here `int` for **integer**. Declaring the type we want allows Java to reserve the correct about of memory in RAM for us to store the value of our variable. \n",
    "\n",
    "We can then see the value assigned to the variable using the `println()` function as shown below:"
   ]
  },
  {
   "cell_type": "code",
   "execution_count": 2,
   "metadata": {
    "ExecuteTime": {
     "end_time": "2020-02-20T18:26+0000",
     "start_time": "2020-02-20T18:26:17.388Z"
    }
   },
   "outputs": [
    {
     "name": "stdout",
     "output_type": "stream",
     "text": [
      "my_variable: 3\n"
     ]
    }
   ],
   "source": [
    "System.out.println(\"my_variable: \" + my_variable);"
   ]
  },
  {
   "cell_type": "markdown",
   "metadata": {},
   "source": [
    "We can change the value of the variable by assigning it another value like:"
   ]
  },
  {
   "cell_type": "code",
   "execution_count": 3,
   "metadata": {
    "ExecuteTime": {
     "end_time": "2020-02-20T18:26+0000",
     "start_time": "2020-02-20T18:26:17.400Z"
    }
   },
   "outputs": [
    {
     "name": "stdout",
     "output_type": "stream",
     "text": [
      "my_variable: 444444\n"
     ]
    }
   ],
   "source": [
    "my_variable = 444444;\n",
    "System.out.println(\"my_variable: \" + my_variable);"
   ]
  },
  {
   "cell_type": "markdown",
   "metadata": {},
   "source": [
    "However, if we try and assign any type other than an integer to the variable, Java will complain:"
   ]
  },
  {
   "cell_type": "code",
   "execution_count": 4,
   "metadata": {
    "ExecuteTime": {
     "end_time": "2020-02-20T18:26+0000",
     "start_time": "2020-02-20T18:26:17.407Z"
    }
   },
   "outputs": [
    {
     "ename": "CompilationException",
     "evalue": "",
     "output_type": "error",
     "traceback": [
      "\u001b[1m\u001b[30m|   \u001b[1m\u001b[30mmy_variable = \u001b[0m\u001b[1m\u001b[30m\u001b[41m\"a string value\"\u001b[0m\u001b[1m\u001b[30m\u001b[0m",
      "\u001b[1m\u001b[31mincompatible types: java.lang.String cannot be converted to int\u001b[0m",
      ""
     ]
    }
   ],
   "source": [
    "my_variable = \"a string value\""
   ]
  },
  {
   "cell_type": "code",
   "execution_count": 5,
   "metadata": {
    "ExecuteTime": {
     "end_time": "2020-02-20T18:26+0000",
     "start_time": "2020-02-20T18:26:17.416Z"
    }
   },
   "outputs": [
    {
     "ename": "CompilationException",
     "evalue": "",
     "output_type": "error",
     "traceback": [
      "\u001b[1m\u001b[30m|   \u001b[1m\u001b[30mmy_variable = \u001b[0m\u001b[1m\u001b[30m\u001b[41m3.11\u001b[0m\u001b[1m\u001b[30m\u001b[0m",
      "\u001b[1m\u001b[31mincompatible types: possible lossy conversion from double to int\u001b[0m",
      ""
     ]
    }
   ],
   "source": [
    "my_variable = 3.11"
   ]
  },
  {
   "cell_type": "markdown",
   "metadata": {},
   "source": [
    "In principle you can call your variables anything, sort of. In Java there are a few rules as mentioned <a href='https://mathbits.com/MathBits/Java/DataBasics/Namingrules.htm'>here</a>.\n",
    "\n",
    "The best naming convention is to choose a variable name that will tell the reader of the program what the variable represents.  Variable names that describe the data stored at that particular memory location are called mnemonic variables.  For example, if you wish to store a grade on a test, a variable name such as `grade`  would be more easily remembered than a variable name such as `var2`.\n"
   ]
  },
  {
   "cell_type": "markdown",
   "metadata": {},
   "source": [
    "### Rules for naming variables:\n",
    "\n",
    "1. All variable names must begin with a letter of the alphabet, an underscore, or ( _ ), or a dollar sign ($)\n",
    "2. The convention is to always use a letter of the alphabet.  The dollar sign and the underscore are discouraged.\n",
    "3. After the first initial letter, variable names may also contain letters and the digits 0 to 9.  \n",
    "\n",
    "4. No spaces or special characters are allowed. \n",
    "\n",
    "5. The name can be of any length, but don't get carried away.  Remember that you will have to type this name.\n",
    "\n",
    "6. Uppercase characters are distinct from lowercase characters.  Using ALL uppercase letters are primarily used to identify constant variables.  Remember that variable names are case-sensitive.\n",
    "\n",
    "7. You cannot use a java keyword (reserved word) for a variable name.\n",
    "\n",
    " \n",
    "Tip:  Some programmers use underscore in variable names to separate parts of the name, such as shipping_weight.  Others prefer a \"camel case\" notation, such as shippingWeight to separate parts of the name.  NEVER use uppercase for every letter in a variable name, because uppercase names are reserved for final (constant) variables."
   ]
  },
  {
   "cell_type": "markdown",
   "metadata": {},
   "source": [
    "### Constants"
   ]
  },
  {
   "cell_type": "markdown",
   "metadata": {},
   "source": [
    "Sometime in our program we would like the value of a variable to stay constant once declared. These are special type of variables, and we call them `CONSTANTS` and they are usually denoted with `ALL_CAPS`. In java we tell the compiler that our variable should be kept constant for the remainder of the program by including the `final` keyword.\n",
    "\n",
    "As the notebook environment doens't work quite the same as a java program getting compiled, we'll illustrate how constants work in Java by compiling and executing a java script.\n",
    "\n",
    "In the `scripts/` directory there is a script called `L2Constants.java` which contains the following:\n",
    "\n",
    "```java\n",
    "public class L2Constants {\n",
    "    public static void main(String[] args) {\n",
    "        \n",
    "        final int my_var = 1;\n",
    "        my_var = 2;\n",
    "        System.out.println(my_var);\n",
    "    }\n",
    "}\n",
    "```"
   ]
  },
  {
   "cell_type": "markdown",
   "metadata": {},
   "source": [
    "When we compile this programming by running:\n",
    "\n",
    "`javac L2Constants.java`\n",
    "\n",
    "we get the following error:\n",
    "\n",
    "```java\n",
    "Constants.java:5: error: cannot assign a value to final variable my_var\n",
    "        my_var = 2;\n",
    "        ^\n",
    "1 error\n",
    "```"
   ]
  },
  {
   "cell_type": "markdown",
   "metadata": {},
   "source": [
    "As you can see, the Java compiler complains and tells us, `cannot assign a value to final variable my_var`. As a side note, compilers have come a long way and are usually quite descriptive about the problem - learn to read and understand your error messages."
   ]
  },
  {
   "cell_type": "markdown",
   "metadata": {},
   "source": [
    "### Arrays"
   ]
  },
  {
   "cell_type": "markdown",
   "metadata": {},
   "source": [
    "Arrays are lists of things. Consider a situation where we need to store `five` integer numbers. \n",
    "\n",
    "If we use programming's simple variable and data type concepts, then we need five variables of int data type and the program will be as follows:\n",
    "\n",
    "```java\n",
    "int number1 = 1;\n",
    "int number2 = 2;\n",
    "int number3 = 3;\n",
    "int number4 = 4;\n",
    "int number5 = 5;\n",
    "```\n",
    "\n",
    "This gets very tedious! Quickly! To handle such situations, almost all the programming languages provide a concept called array. An array is a data structure, which can store a fixed-size collection of elements of the same data type. An array is used to store a collection of data, but it is often more useful to think of an array as a collection of variables of the same type.\n",
    "\n",
    "Instead of declaring individual variables, such as number1, number2, ..., number99, you just declare one array variable number of integer type and use `number1[0]`, `number1[1]`, and ..., `number1[99]` to represent individual variables. Here, `0, 1, 2, .....99` are index associated with var variable and they are being used to represent individual elements available in the array.\n",
    "\n",
    "All arrays consist of contiguous memory locations. The lowest address corresponds to the first element and the highest address to the last element.\n",
    "\n",
    "<img src='https://www.tutorialspoint.com/computer_programming/images/arrays.jpg' width='60%'>\n",
    "\n",
    "Example taken from <a href='https://www.tutorialspoint.com/computer_programming/computer_programming_arrays.htm'>here</a>."
   ]
  },
  {
   "cell_type": "markdown",
   "metadata": {},
   "source": [
    "Arrays can contain any type of element value (primitive types or objects), but you can't store different types in a single array. You can have an array of integers or an array of strings or an array of arrays, but you can't have an array that contains, for example, both strings and integers.\n",
    "\n",
    "To create an array in Java, you use three steps:\n",
    "\n",
    "1. Declare a variable to hold the array.\n",
    "2. Create a new array object and assign it to the array variable.\n",
    "3. Store things in that array."
   ]
  },
  {
   "cell_type": "markdown",
   "metadata": {},
   "source": [
    "#### Declaring Array Variables\n",
    "The first step in creating an array is creating a variable that will hold the array, just as you would any other variable. Array variables indicate the type of object the array will hold (just as they do for any variable) and the name of the array, followed by empty brackets (`[ ]`). The following are all typical array variable declarations:\n",
    "\n",
    "```java\n",
    "String difficultWords[];\n",
    "Point hits[];\n",
    "int temps[];\n",
    "```\n",
    "\n",
    "An alternate method of defining an array variable is to put the brackets after the type instead of after the variable. They are equivalent, but this latter form is often much more readable. \n",
    "\n",
    "So, for example, these three declarations could be written like this:\n",
    "\n",
    "```java\n",
    "String[] difficultWords;\n",
    "Point[] hits;\n",
    "int[] temps;\n",
    "```"
   ]
  },
  {
   "cell_type": "markdown",
   "metadata": {},
   "source": [
    "#### Creating Array Objects\n",
    "The second step is to create an array object and assign it to that variable. There are two ways to do this:\n",
    "\n",
    "###### Using new\n",
    "\n",
    "Directly initializing the contents of that array\n",
    "The first way is to use the new operator to create a new instance of an array:\n",
    "\n",
    "```java\n",
    "String[] names = new String[10];\n",
    "```\n",
    "\n",
    "That line creates a new array of Strings with 10 slots (sometimes called elements). When you create a new array object using new, you must indicate how many slots that array will hold. This line does not put actual String objects in the slots-you'll have to do that later.\n",
    "\n",
    "Array objects can contain primitive types such as integers or booleans, just as they can contain objects:\n",
    "\n",
    "```\n",
    "int[] temps = new int[99];\n",
    "```\n",
    "\n",
    "When you create an array object using `new`, all its slots are initialized for you \n",
    "\n",
    "+ `0` for `numeric` arrays\n",
    "+ false for `boolean`\n",
    "+ `'\\0'` for character arrays\n",
    "+ `null` for objects\n",
    "\n",
    "You can then assign actual values or objects to the slots in that array. You can also create an array and initialize its contents at the same time. Instead of using new to create the new array object, enclose the elements of the array inside braces, separated by commas:\n",
    "\n",
    "```java\n",
    "String[] chiles = { \"jalapeno\", \"anaheim\", \"serrano\", \"habanero\"};\n",
    "```\n",
    "\n",
    "Each of the elements inside the braces must be of the same type and must be the same type as the variable that holds that array (the Java compiler will complain if they're not). An array the size of the number of elements you've included will be automatically created for you. This example creates an array of String objects named chiles that contains five elements."
   ]
  },
  {
   "cell_type": "markdown",
   "metadata": {},
   "source": [
    "In the `scripts/` directory there is a script called `L2Arrays.java` which contains the following, inspired by <a href='https://www.java67.com/2014/03/how-to-print-array-in-java-example-tutorial.html'>this</a>:\n",
    "\n",
    "\n",
    "```java\n",
    "import java.util.Arrays;\n",
    "\n",
    "public class L2Arrays {\n",
    "    public static void main(String[] args) {\n",
    "        \n",
    "        String[] chiles = { \"jalapeno\", \"anaheim\", \"serrano\", \"habanero\"};\n",
    "\n",
    "        System.out.println(\"Chiles: \" + chiles);\n",
    "        System.out.println(\"Real Chiles: \" + Arrays.toString(chiles)); \n",
    "    }\n",
    "}\n",
    "```"
   ]
  },
  {
   "cell_type": "markdown",
   "metadata": {},
   "source": [
    "When we compile this programming by running:\n",
    "\n",
    "`javac L2Arrays.java`\n",
    "\n",
    "and run the programming using:\n",
    "\n",
    "```\n",
    "java L2Arrays\n",
    "```\n",
    "we get the following:\n",
    "\n",
    "```java\n",
    "Chiles: [Ljava.lang.String;@3fee733d\n",
    "Real Chiles: [jalapeno, anaheim, serrano, habanero]\n",
    "```"
   ]
  },
  {
   "cell_type": "markdown",
   "metadata": {},
   "source": [
    "What the hell is going on with `@3fee733d`? This is the start address of the array, each subsequent value in the array will be stored from `@3fee733d` onwards.\n",
    "\n",
    "What happens when we try and mix types in arrays? \n",
    "\n",
    "In the `scripts/` directory there is a script called `L2ArraysMix.java` which contains the following:\n",
    "\n",
    "```java\n",
    "import java.util.Arrays;\n",
    "\n",
    "public class L2ArraysMix {\n",
    "    public static void main(String[] args) {\n",
    "        \n",
    "        String[] chiles = { \"jalapeno\", 1, \"serrano\", \"habanero\"};\n",
    "\n",
    "        System.out.println(\"Chiles: \" + chiles);\n",
    "        System.out.println(\"Real Chiles: \" + Arrays.toString(chiles)); \n",
    "    }\n",
    "}\n",
    "```\n"
   ]
  },
  {
   "cell_type": "markdown",
   "metadata": {},
   "source": [
    "When we compile this programming by running:\n",
    "\n",
    "`javac L2ArraysMix.java` we get:\n",
    "\n",
    "```java\n",
    "L2ArraysMix.java:6: error: incompatible types: int cannot be converted to String\n",
    "        String[] chiles = { \"jalapeno\", 1, \"serrano\", \"habanero\"};\n",
    "                                        ^\n",
    "1 error\n",
    "```"
   ]
  },
  {
   "cell_type": "markdown",
   "metadata": {},
   "source": [
    "#### Accessing Array Elements\n",
    "Once you have an array with initial values, you can test and change the values in each slot of that array. To get at a value stored within an array, use the array subscript expression (`[]`):\n",
    "\n",
    "```java\n",
    "myArray[subscript];\n",
    "```\n",
    "\n",
    "The myArray part of this expression is a variable holding an array object, although it can also be an expression that results in an array. The subscript part of the expression, inside the brackets, specifies the number of the slot within the array to access. Array subscripts start with 0, as they do in C and C++. So, an array with `10 elements` has `10` array slots accessed using subscript `0` to `9`.\n",
    "\n",
    "Note that all array subscripts are checked when your Java program is run to make sure that they are inside the boundaries of the array (greater than or equal to 0 but less than the array's length). Unlike in C, it is impossible in Java to access or assign a value to an array slot outside the boundaries of the array (thereby avoiding a lot of the common problems and bugs that result from overrunning the bounds of an array in C-like languages). Note the following two statements in `scripts/L2ArrayOutOfBounds.java`:\n",
    "\n",
    "```java\n",
    "String[] arr = new String[10];\n",
    "arr[10] = \"eggplant\";\n",
    "```\n",
    "\n",
    "This program will compile, but when we execute it we get the following:\n",
    "\n",
    "```java\n",
    "Exception in thread \"main\" java.lang.ArrayIndexOutOfBoundsException: Index 10 out of bounds for length 10\n",
    "\tat L2ArrayOutOfBounds.main(L2ArrayOutOfBounds.java:6)\n",
    "```"
   ]
  },
  {
   "cell_type": "markdown",
   "metadata": {},
   "source": [
    "#### Changing Array Elements\n",
    "To assign an element value to a particular array slot, merely put an assignment statement after the array access expression:\n",
    "\n",
    "```java\n",
    "myarray[1] = 15;\n",
    "sentence[0] = \"The\";\n",
    "sentence[10] = sentence[0];\n",
    "```\n",
    "\n",
    "An important thing to note is that an array of objects in Java is an array of references to those objects (similar in some ways to an array of pointers in C or C++). When you assign a value to a slot in an array, you're creating a reference to that object, just as you do for a plain variable. When you move values around inside arrays (as in that last line), you just reassign the reference; you don't copy the value from one slot to another. Arrays of primitive types such as ints or floats do copy the values from one slot to another.\n",
    "\n",
    "Arrays of references to objects, as opposed to the objects themselves, are particularly useful because you can have multiple references to the same objects both inside and outside arrays. For example, you can assign an object contained in an array to a variable and refer to that same object by using either the variable or the array position."
   ]
  },
  {
   "cell_type": "markdown",
   "metadata": {},
   "source": [
    "### Loops"
   ]
  },
  {
   "cell_type": "markdown",
   "metadata": {},
   "source": [
    "Loops are the building blocks for iterating through lists. They come in 3 different flavours: `For`-loops, `While`-loops and `Do-While`-loops, where the latter 2 are very similiar. \n",
    "\n",
    "So what is a loop? Say we've got an 2 arrays. One array contains the names of chords and the other array contains a string with the notes making up that chords. How can we print out line for line, the chord name and the notes that make up that chord? Well, spoiler, with a loop - and a `For` loop to be spesific here.\n",
    "\n",
    "The boiler plate code for a `For`-loop in Java is:\n",
    "\n",
    "```java\n",
    "for(int i = 0; i < 5; i++) {\n",
    "  System.out.println(i);\n",
    "}\n",
    "```\n",
    "\n",
    "This will output:\n",
    "\n",
    "```java\n",
    "0\n",
    "1\n",
    "2\n",
    "3\n",
    "4\n",
    "```\n",
    "\n",
    "The loop starts with the variable `i` assigned to `0` and each time the loop passes through, it increments `i` with `1`. The `i++` is shorthand for `increment by 1`. We could have also written:\n",
    "\n",
    "```java\n",
    "for(int i = 0; i < 5; i = i+1) {\n",
    "    System.out.println(i);\n",
    "  }\n",
    "```\n",
    "\n",
    "Or if we wanted to start at `10` and decrease to `-10` in steps of `3` we could do:\n",
    "\n",
    "```java\n",
    "for(int i = 10; i > -10; i = i-2) {\n",
    "    System.out.println(i);\n",
    "  }\n",
    "```\n",
    "\n",
    "which will output:\n",
    "\n",
    "```java\n",
    "10\n",
    "7\n",
    "4\n",
    "1\n",
    "-2\n",
    "-5\n",
    "-8\n",
    "```"
   ]
  },
  {
   "cell_type": "markdown",
   "metadata": {},
   "source": [
    "Getting back to our chord and notes example, in the `scripts/L2ChordForLoop.java` file we've got the following:\n",
    "\n",
    "```java\n",
    "public class L2ChordForLoop {\n",
    "    public static void main(String[] args) {\n",
    "        String [] chords = {\"A\", \"Am\", \"Am7\", \"Aadd9\"};\n",
    "        String [] notes = {\"A C# E\", \"A B C\", \"A B C D\", \"A B C D E\"};\n",
    "        for(int i = 0; i < chords.length; i++) {\n",
    "            System.out.println(chords[i] + \": \" + notes[i]);\n",
    "          }\n",
    "    }\n",
    "}\n",
    "```\n",
    "\n",
    "which outputs?"
   ]
  },
  {
   "cell_type": "markdown",
   "metadata": {},
   "source": [
    "### Functions"
   ]
  },
  {
   "cell_type": "markdown",
   "metadata": {},
   "source": [
    "### Classes"
   ]
  },
  {
   "cell_type": "markdown",
   "metadata": {},
   "source": [
    "### Flow Diagrams"
   ]
  },
  {
   "cell_type": "markdown",
   "metadata": {},
   "source": [
    "## Homework"
   ]
  },
  {
   "cell_type": "code",
   "execution_count": null,
   "metadata": {},
   "outputs": [],
   "source": []
  }
 ],
 "metadata": {
  "kernelspec": {
   "display_name": "Java",
   "language": "java",
   "name": "java"
  },
  "language_info": {
   "codemirror_mode": "java",
   "file_extension": ".jshell",
   "mimetype": "text/x-java-source",
   "name": "Java",
   "pygments_lexer": "java",
   "version": "12.0.2+10"
  },
  "toc": {
   "base_numbering": 1,
   "nav_menu": {},
   "number_sections": true,
   "sideBar": true,
   "skip_h1_title": true,
   "title_cell": "Table of Contents",
   "title_sidebar": "Contents",
   "toc_cell": true,
   "toc_position": {
    "height": "calc(100% - 180px)",
    "left": "10px",
    "top": "150px",
    "width": "259.2px"
   },
   "toc_section_display": true,
   "toc_window_display": true
  }
 },
 "nbformat": 4,
 "nbformat_minor": 2
}
