{
 "cells": [
  {
   "cell_type": "markdown",
   "metadata": {},
   "source": [
    "# Lesson 1 - The Basics\n",
    "\n",
    "Author: <a href='mailto:louwjlabuschagne@gmail.com'>louwjlabuschagne@gmail.com</a>"
   ]
  },
  {
   "cell_type": "markdown",
   "metadata": {
    "heading_collapsed": true
   },
   "source": [
    "## Terms, concepts and background\n"
   ]
  },
  {
   "cell_type": "markdown",
   "metadata": {
    "heading_collapsed": true,
    "hidden": true
   },
   "source": [
    "### What is an IDE, and why it doesn't matter?"
   ]
  },
  {
   "cell_type": "markdown",
   "metadata": {
    "hidden": true
   },
   "source": [
    "IDE, or Integrated Development Environment, is the GUI in which you program. This can have many flavours and usually programmers have their favorite that they go to. Most people use <a href='https://www.jetbrains.com/idea/'>Jetbrains' IntelliJ</a> or <a href='https://www.eclipse.org/downloads/packages/release/kepler/sr1/eclipse-ide-java-developers'>Eclips</a>. \n",
    "\n",
    "Personally I prefer <a href='https://code.visualstudio.com/'>VS Code</a> as it is a one stop shop for all your programming language, rather than being geared to one spesific language. It has plently of add-ons that make it as feature rish, if not more, than most IDEs. However, sometimes the choice isn't yours and your team, company, or university will govern which IDE use.\n",
    "\n",
    "However, for these lessons, I'll actually be using <a href='https://jupyter.org/'>Jupyter Notebooks</a> as it makes it easy to illustrate code and comment accordingly. You can set up a Java kernel for Juypter by going to <a href='https://github.com/SpencerPark/IJava'>IJava</a> git repo.\n",
    "\n",
    "At the end of the day it doens't matter what IDE you use. Sometime you'll prefer one of the other, but as long as you are writing good, clean, working code your programming and any additional tools are just there to speed up the process."
   ]
  },
  {
   "cell_type": "markdown",
   "metadata": {
    "heading_collapsed": true,
    "hidden": true
   },
   "source": [
    "### Why you will and should learn multiple languages and why the language doesn't matter"
   ]
  },
  {
   "cell_type": "markdown",
   "metadata": {
    "hidden": true
   },
   "source": [
    "Through your coding career you'll undoubtible learn more than just _one_ language. And you should! Learning different languages highlights strenghts and weaknesses of the various langauges and gives you a good understanding as to why people prefer one language over another for a specif task. \n",
    "\n",
    "At the end of the day programming is not the language program in, it is a mindset that you'll learn and refine. "
   ]
  },
  {
   "cell_type": "markdown",
   "metadata": {
    "hidden": true
   },
   "source": [
    "#### Python, Java, C, C++, JS"
   ]
  },
  {
   "cell_type": "markdown",
   "metadata": {
    "hidden": true
   },
   "source": [
    "Some of the common languages you'll encounter are: C/C++, Java, .NET/C#, Ruby, Python, PHP, Javascript. A small explanation is shown below taken from <a href='https://www.quora.com/What-are-the-pros-cons-and-uses-of-the-major-programming-languages-What-programming-language-should-I-learn-I-wanted-a-general-overview-of-what-certain-languages-are-used-for-what-is-good-or-bad-easy-hard-high-maintenance-or-low-maintenance'>this</a> blog post.\n",
    "\n",
    "###### C/C++: \n",
    "Best/generally used for lower-level system stuff. Operating systems, device drivers, etc. Also very popular in game development as well as in the Linux community. Potential cons: very (relatively speaking) low-level, not ideal for developing ordinary applications and seldom used for web development. (Disclaimer: These are two different languages, but they are often grouped together like this and the above description does apply to both.)\n",
    "\n",
    "###### Java: \n",
    "Probably most popular language overall, widely used for enterprise applications, web applications (though I wouldn't personally recommend it for that—read on), a good deal of open source stuff, and Android. Potential cons: not very \"sexy\", fairly boring in terms of language features, somewhat old-fashioned in many ways.\n",
    "\n",
    "###### .NET (primarily C#): \n",
    "Similar to Java but not as widely used. I actually really like C# but wouldn't recommend it unless you have a specific need to learn .NET. Potential cons: perceived by many as a Java clone, useful in the same scenarios as Java but not as widely used.\n",
    "Objective-C: primarily popular again because of iOS. Related to C/C++ but with some very different syntax mixed in. Potential cons: very narrow applicability (though make no mistake: iOS is a pretty big reason to learn it).\n",
    "\n",
    "###### Ruby: \n",
    "Very popular and \"cool\" esp. in the startup community. Great for writing web applications using Rails, hugely popular framework, or other lightweight frameworks that exist (e.g., Sinatra). Better than Java for creating a web application quickly in my opinion. Potential cons: fast moving language, lots of out-of-date online documentation, not really useful for developing GUI applications—pretty much web-only, realistically speaking.\n",
    "\n",
    "###### Python: \n",
    "Python is easy to use, powerful, and versatile, making it a great choice for beginners and experts alike. Python’s readability makes it a great first programming language — it allows you to think like a programmer and not waste time with confusing syntax. A slogan for Python is: \"The second best language for everything\" - in other words, there is usually a better, faster, more optimised language for an application, however, Python will also get you there in half the time. This makes it a great language to have in your arsinal. \n",
    "\n",
    "###### PHP: \n",
    "A language people love to hate. Wildly ubiquitous but considered by many to be a terrible (i.e., poorly designed) language. That said, used on a huge number of successful websites, including Facebook and Wordpress. To my knowledge, used exclusively for web applications. Potential cons: perception of low quality within the industry, lots of bad code examples online.\n",
    "\n",
    "###### JavaScript: \n",
    "Amazing language that seems to be in the middle of a renaissance. Formerly used exclusively for client-side functionality that runs in users' web browsers, but now also used as a server-side language in some cases (using Node.js). Potential cons: considered a \"toy\" language by some (wrongly, in my opinion), still mostly used only for browser-side functionality in practice."
   ]
  },
  {
   "cell_type": "markdown",
   "metadata": {
    "hidden": true
   },
   "source": [
    "#### Syntax is not programming"
   ]
  },
  {
   "cell_type": "markdown",
   "metadata": {
    "hidden": true
   },
   "source": [
    "To reiterate: the language you are programming in, is not programming, rather it is just the syntax used to execute concepts. Below I show how to declare a variable and print out \"Hallo World\" in each of the languages above.\n",
    "\n",
    "###### C/C++:\n",
    "\n",
    "```C\n",
    "#include <stdio.h>\n",
    "int main() {\n",
    "    // initialise string variable (which is an array of chars) with its size of chars: 200.\n",
    "    char message[200] = \"Hallo World!\";\n",
    "    printf(message);\n",
    "    return 0;\n",
    "}\n",
    "```\n",
    "\n",
    "###### Java: \n",
    "\n",
    "```java\n",
    "public class HelloWorld {\n",
    "    public static void main(String[] args) {\n",
    "        // Prints \"Hello, World\" to the terminal window.\n",
    "        String message = \"Hello, World\"; \n",
    "        System.out.println(message);\n",
    "    }\n",
    "}\n",
    "```\n",
    "\n",
    "###### .NET (primarily C#): \n",
    "\n",
    "```C#\n",
    "using System;\n",
    "using System.Collections.Generic;\n",
    "using System.Linq;\n",
    "using System.Text;\n",
    "using System.Threading.Tasks;\n",
    "\n",
    "namespace ConsoleApp1\n",
    "{\n",
    "    class Program\n",
    "    {\n",
    "        static void Main(string[] args){\n",
    "            string message = \"Hello World!!\";\n",
    "            Console.WriteLine(message);\n",
    "            Console.ReadLine();}\n",
    "    }\n",
    "}\n",
    "```\n",
    "\n",
    "###### Ruby: \n",
    "\n",
    "```ruby\n",
    "message = 'Hello World!'\n",
    "puts message\n",
    "```\n",
    "\n",
    "###### Python: \n",
    "\n",
    "```python\n",
    "message = 'Hello World!'\n",
    "print(message)\n",
    "```\n",
    "\n",
    "###### PHP: \n",
    "\n",
    "```html\n",
    "<!DOCTYPE html>\n",
    "<html>\n",
    "<body>\n",
    "\n",
    "<?php\n",
    "$message = \"Hallo World!\";\n",
    "echo \"\" . $color . \"<br>\";\n",
    "?>\n",
    "\n",
    "</body>\n",
    "</html>\n",
    "```\n",
    "\n",
    "###### JavaScript: \n",
    "\n",
    "```javascript\n",
    "var message = \"Hallo World!\"\n",
    "console.log(message\n",
    "```\n",
    "\n",
    "As you can see, you can do the same thing in every language, the syntax and how you do it is all that differs. So don't get hampered by syntax, just google it, rather think about the problem you are trying to solve. "
   ]
  },
  {
   "cell_type": "markdown",
   "metadata": {
    "heading_collapsed": true,
    "hidden": true
   },
   "source": [
    "### OOP - what is it and why do we use it"
   ]
  },
  {
   "cell_type": "markdown",
   "metadata": {
    "hidden": true
   },
   "source": [
    "OOP - short for Object Orientated Programming, is a concept that you'll hear everyday the deeper you go into programming. It is a mindset of abstracting small logical blocs in a modular way to make reusing them easy. \n",
    "\n",
    "For example, we might have a class full of student and each of them has a lenght and weight. We could declare a list of string containing the details of students, like:\n",
    "\n",
    "```javascript\n",
    "students [{\"name\":\"John\", \"length\":180, \"weight\": 80},\n",
    "          {\"name\":\"Jane\", \"length\":175, \"weight\": 70},\n",
    "         ...]\n",
    "```\n",
    "\n",
    "or we can create a Student **Class**, also called an **Object**, that holds the information of each student. For example:\n",
    "\n",
    "```java\n",
    "public class Student {\n",
    "  String name;\n",
    "  int length;\n",
    "  int weight;\n",
    "\n",
    "  public Student(String n, int l, int w) {\n",
    "      name = n;\n",
    "      length = l;\n",
    "      weight = w;\n",
    "  }\n",
    "\n",
    "  public static void main(String[] args) {\n",
    "    Student John = new Student(\"John\", 180, 80);\n",
    "    Student Jane = new Student(\"Jane\", 175, 70);\n",
    "    System.out.println(John.name + \" \" + John.length + \" \" + John.weight);\n",
    "    System.out.println(Jane.name + \" \" + Jane.length + \" \" + Jane.weight);\n",
    "  }\n",
    "}\n",
    "\n",
    "// Outputs \n",
    "// John 180 80\n",
    "// Jane 175 70\n",
    "```\n",
    "\n",
    "This might seem like extra effort now, but it makes modifying, maintaining and integrating code so much easier. To the point where you can't live without it. More on this later in the later."
   ]
  },
  {
   "cell_type": "markdown",
   "metadata": {
    "heading_collapsed": true,
    "hidden": true
   },
   "source": [
    "### Git and github and standing on the shoulders of giants"
   ]
  },
  {
   "cell_type": "markdown",
   "metadata": {
    "hidden": true
   },
   "source": [
    "You'll probably not learn about git just yet, but it is of paramount importance if you want to program. For now we'll just say it is a way to keep track of versions of your software. It enables you to release versions of your code and fallback to previous changes if something doens't work or breaks do to a change. \n",
    "\n",
    "To get you use to how git (and github) works, these notebooks are hosted on github on <a href='https://github.com/louwjlabuschagne/com-sci-101'>this</a> repository. For now, just look at the lessons on github - we'll unpack git and github as we go along, but rest assured. It is quite a complicated concept that takes a few years to understand, so best to start getting your feet wet now. \n",
    "\n",
    "The advantage of using git and github is that you can reuse a lot of code that many people have previously writen - and you should! Rule 1 in programming is don't re-invent the wheel - if somebody has done the work before, why should you do it again? Just make sure you give credit to any code you copy and use - especially at Universities they can be a bit heavy on copying code, but once you get into the real world and have to get something working, nobody cares where you got the code, as long as it works."
   ]
  },
  {
   "cell_type": "markdown",
   "metadata": {
    "heading_collapsed": true,
    "hidden": true
   },
   "source": [
    "### The Oracle JVM, JDK and JRE"
   ]
  },
  {
   "cell_type": "markdown",
   "metadata": {
    "hidden": true
   },
   "source": [
    "Java is a language that is used widely because code that you write in Java is highly portable. The same code you wrote on you Mac will work on Windows, Android, an ATM or anything else running the JVM. \n",
    "\n",
    "The **JVM** is a the **Java Virtual Machine** and you can think of it as a layer between Java and the host you are running your Java code on. It basically deals with translating your Java code to whatever is needed on the host. \n",
    "\n",
    "In order ot develop Java you'll need the JDK, or **Java Development Kit** installed. This has all the internals needed to create, compile, debug and test your Java programs. \n",
    "\n",
    "However, if you want to deploy an application you don't always need the JDK, but _just_ the **JRE** or **Java Runtime Environment**. The JRE has a much smaller footprint compared to the JDK and allows your java programs to execute."
   ]
  },
  {
   "cell_type": "markdown",
   "metadata": {
    "heading_collapsed": true,
    "hidden": true
   },
   "source": [
    "### Why Java and why not always Java"
   ]
  },
  {
   "cell_type": "markdown",
   "metadata": {
    "hidden": true
   },
   "source": [
    "Java is great for many things. It is a great mid-point language regarding complexcity as well as ease of use (although it might not feel that way right now). This is why it is one of the go to languages for teaching people to code. It elludes to low level concepts like memory allocation, but Java also has some user friendly helpers like the Java garbage collector. \n",
    "\n",
    "However, be open to learning new languages whenever you can as this will aid you in learning Java even more. "
   ]
  },
  {
   "cell_type": "markdown",
   "metadata": {
    "heading_collapsed": true,
    "hidden": true
   },
   "source": [
    "### Staying Up to Date"
   ]
  },
  {
   "cell_type": "markdown",
   "metadata": {
    "hidden": true
   },
   "source": [
    "Programming is a highly dynamic field. Every week there is something new that gets released. Sometimes it's a new version of a language, or an entirely new language, or an update to a core package of a language that changes everything. \n",
    "\n",
    "To be a succesful programmer you have to stay up to date with the trends and what new features come out. I recommend searching for a YouTube channel that speaks to you, a twitter handle or a sub-reddit that keeps you up to date with new features. As with learning new languages, being aware of new features gives you an understanding of what and why something is currenlty lacking and broadens your knowledge about a language and programming in general."
   ]
  },
  {
   "cell_type": "markdown",
   "metadata": {},
   "source": [
    "## Programming in Java"
   ]
  },
  {
   "cell_type": "markdown",
   "metadata": {},
   "source": [
    "### General Concepts"
   ]
  },
  {
   "cell_type": "markdown",
   "metadata": {},
   "source": [
    "+ Variables\n",
    "+ Variable Types, float, int, string, boolean\n",
    "+ Constants\n",
    "+ Functions\n",
    "+ Classes\n",
    "+ Hello World\n",
    "+ Filenames and spaces\n",
    "+ Mac, Unix and Windows - why \\*nix is best\n",
    "+ GUI vs CLI\n",
    "+ Flow Diagrams - the actual programming language - draw.io\n",
    "+ If statements\n",
    "+ For and While loops\n",
    "+ Commenting code and test-driven development"
   ]
  },
  {
   "cell_type": "markdown",
   "metadata": {},
   "source": [
    "Enough talk, let's program."
   ]
  },
  {
   "cell_type": "code",
   "execution_count": 3,
   "metadata": {
    "ExecuteTime": {
     "end_time": "2020-02-15T12:39+0000",
     "start_time": "2020-02-15T12:39:54.350Z"
    }
   },
   "outputs": [
    {
     "name": "stdout",
     "output_type": "stream",
     "text": [
      "hallo world\n"
     ]
    }
   ],
   "source": [
    "System.out.println(\"hallo world\")"
   ]
  },
  {
   "cell_type": "markdown",
   "metadata": {},
   "source": [
    "### Built-in Data Types"
   ]
  },
  {
   "cell_type": "markdown",
   "metadata": {},
   "source": [
    "### Text"
   ]
  },
  {
   "cell_type": "markdown",
   "metadata": {},
   "source": [
    "### Integers"
   ]
  },
  {
   "cell_type": "markdown",
   "metadata": {},
   "source": [
    "### Floats"
   ]
  },
  {
   "cell_type": "markdown",
   "metadata": {},
   "source": [
    "### Booleans"
   ]
  },
  {
   "cell_type": "markdown",
   "metadata": {},
   "source": [
    "### Libraries"
   ]
  },
  {
   "cell_type": "markdown",
   "metadata": {},
   "source": [
    "### Type Conversion"
   ]
  },
  {
   "cell_type": "markdown",
   "metadata": {},
   "source": [
    "### Additional"
   ]
  }
 ],
 "metadata": {
  "kernelspec": {
   "display_name": "Java",
   "language": "java",
   "name": "java"
  },
  "language_info": {
   "codemirror_mode": "java",
   "file_extension": ".jshell",
   "mimetype": "text/x-java-source",
   "name": "Java",
   "pygments_lexer": "java",
   "version": "12.0.2+10"
  },
  "toc": {
   "base_numbering": 1,
   "nav_menu": {},
   "number_sections": true,
   "sideBar": true,
   "skip_h1_title": true,
   "title_cell": "Table of Contents",
   "title_sidebar": "Contents",
   "toc_cell": false,
   "toc_position": {},
   "toc_section_display": true,
   "toc_window_display": true
  }
 },
 "nbformat": 4,
 "nbformat_minor": 2
}
